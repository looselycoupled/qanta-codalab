{
 "cells": [
  {
   "cell_type": "markdown",
   "metadata": {},
   "source": [
    "# Basic Word2Vec w/ Pretrained Google Model"
   ]
  },
  {
   "cell_type": "code",
   "execution_count": 9,
   "metadata": {},
   "outputs": [],
   "source": [
    "from gensim.models import word2vec\n",
    "from gensim.models import KeyedVectors\n",
    "\n",
    "import warnings\n",
    "warnings.filterwarnings('ignore')"
   ]
  },
  {
   "cell_type": "markdown",
   "metadata": {},
   "source": [
    "# Load model"
   ]
  },
  {
   "cell_type": "code",
   "execution_count": 3,
   "metadata": {},
   "outputs": [],
   "source": [
    "path = \"/Users/allen/Projects/cmsc723/homeworks/dan/GoogleNews-vectors-negative300.bin\"\n",
    "model = KeyedVectors.load_word2vec_format(path, binary=True)"
   ]
  },
  {
   "cell_type": "markdown",
   "metadata": {},
   "source": [
    "# Sample Tasks"
   ]
  },
  {
   "cell_type": "markdown",
   "metadata": {},
   "source": [
    "View a sample word embedding"
   ]
  },
  {
   "cell_type": "code",
   "execution_count": 4,
   "metadata": {},
   "outputs": [
    {
     "data": {
      "text/plain": [
       "array([-0.23144531,  0.16601562, -0.21386719, -0.0703125 , -0.07568359,\n",
       "        0.19628906, -0.12988281, -0.10595703, -0.35351562, -0.11669922,\n",
       "       -0.05102539,  0.03393555, -0.14355469, -0.00390625,  0.17382812,\n",
       "       -0.09960938, -0.16601562, -0.08544922, -0.3828125 ,  0.05908203,\n",
       "       -0.06225586,  0.08837891, -0.08886719,  0.328125  ,  0.06835938,\n",
       "       -0.19140625, -0.00083542,  0.10400391,  0.15234375, -0.00153351,\n",
       "        0.41601562, -0.03320312,  0.14941406,  0.2421875 , -0.17675781,\n",
       "       -0.04931641, -0.12451172,  0.12597656,  0.17480469,  0.28125   ,\n",
       "       -0.18066406,  0.10302734, -0.27539062,  0.26171875,  0.24609375,\n",
       "       -0.04711914,  0.0625    ,  0.41601562, -0.35546875,  0.22265625],\n",
       "      dtype=float32)"
      ]
     },
     "execution_count": 4,
     "metadata": {},
     "output_type": "execute_result"
    }
   ],
   "source": [
    "model[\"dog\"][250:]"
   ]
  },
  {
   "cell_type": "markdown",
   "metadata": {},
   "source": [
    "Find similar words"
   ]
  },
  {
   "cell_type": "code",
   "execution_count": 10,
   "metadata": {},
   "outputs": [
    {
     "data": {
      "text/plain": [
       "[('carpentry', 0.7538774609565735),\n",
       " ('woodshop', 0.7094520330429077),\n",
       " ('woodcarving', 0.7084826827049255),\n",
       " ('Woodworking', 0.6944210529327393),\n",
       " ('cabinetmaking', 0.6722680330276489),\n",
       " ('tinsmithing', 0.6697934865951538),\n",
       " ('woodturning', 0.667036771774292),\n",
       " ('wood_carving', 0.6637512445449829),\n",
       " ('woodworking_shop', 0.6599881649017334),\n",
       " ('woodworker', 0.6565081477165222)]"
      ]
     },
     "execution_count": 10,
     "metadata": {},
     "output_type": "execute_result"
    }
   ],
   "source": [
    "model.most_similar(\"woodworking\")"
   ]
  },
  {
   "cell_type": "markdown",
   "metadata": {},
   "source": [
    "Fun with vectors"
   ]
  },
  {
   "cell_type": "code",
   "execution_count": 11,
   "metadata": {},
   "outputs": [
    {
     "data": {
      "text/plain": [
       "[('queen', 0.7118192911148071), ('monarch', 0.6189674139022827)]"
      ]
     },
     "execution_count": 11,
     "metadata": {},
     "output_type": "execute_result"
    }
   ],
   "source": [
    "model.most_similar(positive=['woman', 'king'], negative=['man'], topn=2)"
   ]
  },
  {
   "cell_type": "markdown",
   "metadata": {},
   "source": [
    "Find what doesnt belong"
   ]
  },
  {
   "cell_type": "code",
   "execution_count": 12,
   "metadata": {},
   "outputs": [
    {
     "data": {
      "text/plain": [
       "'cereal'"
      ]
     },
     "execution_count": 12,
     "metadata": {},
     "output_type": "execute_result"
    }
   ],
   "source": [
    "model.doesnt_match(\"breakfast cereal dinner lunch\".split())"
   ]
  },
  {
   "cell_type": "code",
   "execution_count": 13,
   "metadata": {},
   "outputs": [
    {
     "data": {
      "text/plain": [
       "'monkey'"
      ]
     },
     "execution_count": 13,
     "metadata": {},
     "output_type": "execute_result"
    }
   ],
   "source": [
    "model.doesnt_match(\"carp tuna shark monkey\".split())"
   ]
  },
  {
   "cell_type": "markdown",
   "metadata": {},
   "source": [
    "# Load into Torch embeddings object"
   ]
  },
  {
   "cell_type": "code",
   "execution_count": 28,
   "metadata": {},
   "outputs": [],
   "source": [
    "import torch.nn as nn\n",
    "import torch"
   ]
  },
  {
   "cell_type": "code",
   "execution_count": 27,
   "metadata": {},
   "outputs": [],
   "source": [
    "embeddings = nn.Embedding(*model.vectors.shape, padding_idx=0)\n",
    "# embeddings.load_state_dict({'weight': model.vectors})\n"
   ]
  },
  {
   "cell_type": "code",
   "execution_count": 29,
   "metadata": {},
   "outputs": [
    {
     "data": {
      "text/plain": [
       "tensor([[ 0.0011, -0.0009,  0.0003,  ..., -0.0016, -0.0001, -0.0001],\n",
       "        [ 0.0703,  0.0869,  0.0879,  ..., -0.0476,  0.0145, -0.0625],\n",
       "        [-0.0118, -0.0474,  0.0447,  ...,  0.0713, -0.0349,  0.0242],\n",
       "        ...,\n",
       "        [-0.0197, -0.0908, -0.0194,  ..., -0.0164, -0.0134,  0.0466],\n",
       "        [ 0.0327, -0.0322,  0.0361,  ..., -0.0089,  0.0270,  0.0190],\n",
       "        [ 0.0452, -0.0452, -0.0039,  ...,  0.0796,  0.0723,  0.0130]])"
      ]
     },
     "execution_count": 29,
     "metadata": {},
     "output_type": "execute_result"
    }
   ],
   "source": [
    "embeddings.weight.data.copy_(torch.from_numpy(model.vectors))"
   ]
  },
  {
   "cell_type": "code",
   "execution_count": 70,
   "metadata": {},
   "outputs": [
    {
     "data": {
      "text/plain": [
       "tensor([[ 0.0801,  0.1050,  0.0498,  ...,  0.0037,  0.0476, -0.0688],\n",
       "        [ 0.3242,  0.0137, -0.0282,  ...,  0.0518, -0.0903, -0.1279],\n",
       "        [ 0.0079,  0.1289,  0.0273,  ..., -0.0137,  0.1206,  0.1924],\n",
       "        ...,\n",
       "        [ 0.0801,  0.1050,  0.0498,  ...,  0.0037,  0.0476, -0.0688],\n",
       "        [ 0.1992,  0.0454, -0.0732,  ..., -0.1777,  0.0400,  0.0515],\n",
       "        [ 0.0513, -0.0223, -0.1729,  ...,  0.4160, -0.3555,  0.2227]],\n",
       "       grad_fn=<EmbeddingBackward>)"
      ]
     },
     "execution_count": 70,
     "metadata": {},
     "output_type": "execute_result"
    }
   ],
   "source": [
    "sentence = \"the quick brown fox jumped over the lazy dog\"\n",
    "indexes = [model.vocab[w].index for w in sentence.split()]\n",
    "embeddings(torch.LongTensor(indexes))"
   ]
  },
  {
   "cell_type": "code",
   "execution_count": 47,
   "metadata": {},
   "outputs": [
    {
     "data": {
      "text/plain": [
       "array([ True,  True,  True,  True,  True,  True,  True,  True,  True,\n",
       "        True])"
      ]
     },
     "execution_count": 47,
     "metadata": {},
     "output_type": "execute_result"
    }
   ],
   "source": [
    "model[\"cat\"][:10] == model.vectors[model.vocab[\"cat\"].index][:10]"
   ]
  },
  {
   "cell_type": "code",
   "execution_count": 69,
   "metadata": {
    "scrolled": false
   },
   "outputs": [
    {
     "data": {
      "text/plain": [
       "5947"
      ]
     },
     "execution_count": 69,
     "metadata": {},
     "output_type": "execute_result"
    }
   ],
   "source": [
    "word2ind = {k: v.index for k,v in model.vocab.items()}\n",
    "word2ind[\"cat\"]"
   ]
  },
  {
   "cell_type": "code",
   "execution_count": null,
   "metadata": {},
   "outputs": [],
   "source": []
  },
  {
   "cell_type": "code",
   "execution_count": null,
   "metadata": {},
   "outputs": [],
   "source": []
  }
 ],
 "metadata": {
  "kernelspec": {
   "display_name": "cmsc723",
   "language": "python",
   "name": "cmsc723"
  },
  "language_info": {
   "codemirror_mode": {
    "name": "ipython",
    "version": 3
   },
   "file_extension": ".py",
   "mimetype": "text/x-python",
   "name": "python",
   "nbconvert_exporter": "python",
   "pygments_lexer": "ipython3",
   "version": "3.6.1"
  }
 },
 "nbformat": 4,
 "nbformat_minor": 2
}
