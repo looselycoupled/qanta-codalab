{
 "cells": [
  {
   "cell_type": "markdown",
   "metadata": {},
   "source": [
    "# Extracting Topics from Quiz Bowl samples\n",
    "\n",
    "This notebook is soley for extracting the categories and subcategories from the sample quiz bowl data.  Extracted categories are saved into `data/qb-topics-simple.csv` and `data/qb-topics-combined.csv`."
   ]
  },
  {
   "cell_type": "code",
   "execution_count": 1,
   "metadata": {},
   "outputs": [],
   "source": [
    "import os\n",
    "import csv\n",
    "import json\n",
    "from pprint import pprint\n",
    "import pandas as pd\n",
    "from nltk.probability import FreqDist\n",
    "from collections import defaultdict"
   ]
  },
  {
   "cell_type": "markdown",
   "metadata": {},
   "source": [
    "# Open JSON data file"
   ]
  },
  {
   "cell_type": "code",
   "execution_count": 2,
   "metadata": {},
   "outputs": [],
   "source": [
    "path = \"../data/qanta.train.2018.04.18.json\"\n",
    "with open(path, \"r\") as f:\n",
    "    data = json.loads(f.read())"
   ]
  },
  {
   "cell_type": "markdown",
   "metadata": {},
   "source": [
    "What did the file contain?"
   ]
  },
  {
   "cell_type": "code",
   "execution_count": 3,
   "metadata": {},
   "outputs": [
    {
     "name": "stdout",
     "output_type": "stream",
     "text": [
      "questions <class 'list'>\n",
      "version <class 'str'>\n",
      "maintainer_name <class 'str'>\n",
      "maintainer_contact <class 'str'>\n",
      "maintainer_website <class 'str'>\n",
      "project_website <class 'str'>\n"
     ]
    }
   ],
   "source": [
    "for k, v in data.items():\n",
    "    print(k, v.__class__)"
   ]
  },
  {
   "cell_type": "markdown",
   "metadata": {},
   "source": [
    "How many questions are there?"
   ]
  },
  {
   "cell_type": "code",
   "execution_count": 4,
   "metadata": {},
   "outputs": [
    {
     "data": {
      "text/plain": [
       "112927"
      ]
     },
     "execution_count": 4,
     "metadata": {},
     "output_type": "execute_result"
    }
   ],
   "source": [
    "len(data[\"questions\"])"
   ]
  },
  {
   "cell_type": "markdown",
   "metadata": {},
   "source": [
    "What does a single question look like?"
   ]
  },
  {
   "cell_type": "code",
   "execution_count": 5,
   "metadata": {},
   "outputs": [
    {
     "name": "stdout",
     "output_type": "stream",
     "text": [
      "{'answer': 'Queequeg',\n",
      " 'category': 'Literature',\n",
      " 'dataset': 'protobowl',\n",
      " 'difficulty': 'College',\n",
      " 'first_sentence': \"After this character relates a story about how he didn't \"\n",
      "                   'know the proper way to use a wheelbarrow, he tells of how '\n",
      "                   'a captain dining with his father mistakenly rubbed his '\n",
      "                   'hands in a punch bowl.',\n",
      " 'fold': 'buzztrain',\n",
      " 'gameplay': True,\n",
      " 'page': 'Queequeg',\n",
      " 'proto_id': '5476990eea23cca905506d51',\n",
      " 'qanta_id': 0,\n",
      " 'qdb_id': None,\n",
      " 'subcategory': 'American',\n",
      " 'text': \"After this character relates a story about how he didn't know the \"\n",
      "         'proper way to use a wheelbarrow, he tells of how a captain dining '\n",
      "         'with his father mistakenly rubbed his hands in a punch bowl.\\xa0This '\n",
      "         '\"sea Prince of Wales\" leaves his home by hiding out in a canoe near '\n",
      "         'a coral reef, and he is mistakenly called \"Hedgehog\" by a character '\n",
      "         'who offers him a ninetieth lay, a partner of Bildad named Peleg. A '\n",
      "         \"door is broken down in Mrs. Hussey's establishment after he locks \"\n",
      "         'himself in his room during a \"Ramadan.\"\\xa0He is first encountered '\n",
      "         'in the Spouter-Inn where the landlord thinks he may be late because '\n",
      "         '\"he can\\'t sell his head,\" and his coffin helps save the narrator '\n",
      "         \"after the ship he's on sinks.\\xa0For 10 points, name this native of \"\n",
      "         'Rokovoko and savage companion of Ishmael in Moby-Dick.',\n",
      " 'tokenizations': [[0, 192], [193, 398], [399, 506], [507, 693], [694, 783]],\n",
      " 'tournament': 'ACF Winter',\n",
      " 'year': 2010}\n"
     ]
    }
   ],
   "source": [
    "pprint(data[\"questions\"][0])"
   ]
  },
  {
   "cell_type": "markdown",
   "metadata": {},
   "source": [
    "# Count categories"
   ]
  },
  {
   "cell_type": "code",
   "execution_count": 6,
   "metadata": {},
   "outputs": [],
   "source": [
    "simple_categories = defaultdict(int)\n",
    "categories = defaultdict(int)\n",
    "\n",
    "for q in data[\"questions\"]:\n",
    "    simple_categories[q[\"category\"]] += 1\n",
    "    combined_category = q[\"category\"]\n",
    "    if q[\"subcategory\"] and q[\"subcategory\"] != \"None\":\n",
    "        combined_category = \"{}:{}\".format(q[\"category\"], q[\"subcategory\"])\n",
    "    categories[combined_category] += 1    "
   ]
  },
  {
   "cell_type": "code",
   "execution_count": 7,
   "metadata": {},
   "outputs": [
    {
     "name": "stdout",
     "output_type": "stream",
     "text": [
      "There are 11 high level categories\n",
      "\n",
      "{'Current Events': 362,\n",
      " 'Fine Arts': 13370,\n",
      " 'Geography': 3488,\n",
      " 'History': 26399,\n",
      " 'Literature': 26305,\n",
      " 'Mythology': 4494,\n",
      " 'Philosophy': 3323,\n",
      " 'Religion': 3061,\n",
      " 'Science': 22501,\n",
      " 'Social Science': 5745,\n",
      " 'Trash': 3879}\n",
      "{'Literature': 0, 'Social Science': 1, 'History': 2, 'Science': 3, 'Fine Arts': 4, 'Trash': 5, 'Religion': 6, 'Philosophy': 7, 'Geography': 8, 'Mythology': 9, 'Current Events': 10}\n"
     ]
    }
   ],
   "source": [
    "print(\"There are {} high level categories\\n\".format(len(simple_categories.keys())))\n",
    "\n",
    "pprint(dict(simple_categories))\n",
    "\n",
    "print({val: idx for idx, val in enumerate(simple_categories.keys())})"
   ]
  },
  {
   "cell_type": "code",
   "execution_count": 8,
   "metadata": {},
   "outputs": [],
   "source": [
    "with open(\"data/qb-topics-simple.csv\", \"w\") as f:\n",
    "    for k, v in simple_categories.items():\n",
    "        f.write(\"{},{}\\n\".format(k,v))"
   ]
  },
  {
   "cell_type": "code",
   "execution_count": 9,
   "metadata": {
    "scrolled": true
   },
   "outputs": [
    {
     "name": "stdout",
     "output_type": "stream",
     "text": [
      "There are 102 categories\n",
      "\n",
      "{'Current Events': 362,\n",
      " 'Fine Arts': 6653,\n",
      " 'Fine Arts:American': 2,\n",
      " 'Fine Arts:Art': 587,\n",
      " 'Fine Arts:Audiovisual': 769,\n",
      " 'Fine Arts:Auditory': 1233,\n",
      " 'Fine Arts:Music': 1039,\n",
      " 'Fine Arts:Norse': 7,\n",
      " 'Fine Arts:Other': 1100,\n",
      " 'Fine Arts:Visual': 1980,\n",
      " 'Geography': 3231,\n",
      " 'Geography:American': 1,\n",
      " 'Geography:Geography': 15,\n",
      " 'Geography:Norse': 238,\n",
      " 'Geography:World': 3,\n",
      " 'History': 14619,\n",
      " 'History:American': 3514,\n",
      " 'History:Ancient': 345,\n",
      " 'History:Art': 1,\n",
      " 'History:British': 685,\n",
      " 'History:Classic': 105,\n",
      " 'History:Classical': 607,\n",
      " 'History:Europe': 421,\n",
      " 'History:European': 2683,\n",
      " 'History:Geography': 2,\n",
      " 'History:Norse': 48,\n",
      " 'History:Other': 264,\n",
      " 'History:Religion/Mythology': 1,\n",
      " 'History:Visual': 1,\n",
      " 'History:World': 3103,\n",
      " 'Literature': 14563,\n",
      " 'Literature:American': 3463,\n",
      " 'Literature:Art': 1,\n",
      " 'Literature:British': 2052,\n",
      " 'Literature:Classic': 58,\n",
      " 'Literature:Classical': 249,\n",
      " 'Literature:Europe': 421,\n",
      " 'Literature:European': 3194,\n",
      " 'Literature:Language Arts': 19,\n",
      " 'Literature:Norse': 40,\n",
      " 'Literature:Other': 309,\n",
      " 'Literature:Pop Culture': 1,\n",
      " 'Literature:Religion/Mythology': 1,\n",
      " 'Literature:World': 1934,\n",
      " 'Mythology': 4103,\n",
      " 'Mythology:American': 6,\n",
      " 'Mythology:Earth Science': 1,\n",
      " 'Mythology:Greco-Roman': 2,\n",
      " 'Mythology:Japanese': 1,\n",
      " 'Mythology:Music': 1,\n",
      " 'Mythology:Norse': 365,\n",
      " 'Mythology:Religion/Mythology': 15,\n",
      " 'Philosophy': 2957,\n",
      " 'Philosophy:American': 2,\n",
      " 'Philosophy:European': 3,\n",
      " 'Philosophy:Norse': 354,\n",
      " 'Philosophy:Other': 1,\n",
      " 'Philosophy:Philosophy': 5,\n",
      " 'Philosophy:Religion/Mythology': 1,\n",
      " 'Religion': 2727,\n",
      " 'Religion:American': 3,\n",
      " 'Religion:Ancient': 1,\n",
      " 'Religion:East Asian': 2,\n",
      " 'Religion:Norse': 318,\n",
      " 'Religion:Other': 3,\n",
      " 'Religion:Religion/Mythology': 6,\n",
      " 'Religion:World': 1,\n",
      " 'Science': 11874,\n",
      " 'Science:Astronomy': 204,\n",
      " 'Science:Biology': 2727,\n",
      " 'Science:Chemistry': 2281,\n",
      " 'Science:Computer Science': 297,\n",
      " 'Science:Earth Science': 157,\n",
      " 'Science:Math': 1268,\n",
      " 'Science:Norse': 71,\n",
      " 'Science:Other': 1205,\n",
      " 'Science:Physics': 2413,\n",
      " 'Science:Pop Culture': 1,\n",
      " 'Science:Psychology': 1,\n",
      " 'Science:Religion/Mythology': 1,\n",
      " 'Science:World': 1,\n",
      " 'Social Science': 3073,\n",
      " 'Social Science:American': 1,\n",
      " 'Social Science:Anthropology': 154,\n",
      " 'Social Science:Economics': 172,\n",
      " 'Social Science:European': 1,\n",
      " 'Social Science:Geography': 480,\n",
      " 'Social Science:Language Arts': 1,\n",
      " 'Social Science:Norse': 100,\n",
      " 'Social Science:Other': 2,\n",
      " 'Social Science:Philosophy': 540,\n",
      " 'Social Science:Psychology': 203,\n",
      " 'Social Science:Religion/Mythology': 1017,\n",
      " 'Social Science:World': 1,\n",
      " 'Trash': 3012,\n",
      " 'Trash:American': 5,\n",
      " 'Trash:Classic': 1,\n",
      " 'Trash:Movies': 1,\n",
      " 'Trash:Norse': 313,\n",
      " 'Trash:Other': 197,\n",
      " 'Trash:Pop Culture': 349,\n",
      " 'Trash:World': 1}\n"
     ]
    }
   ],
   "source": [
    "print(\"There are {} categories\\n\".format(len(categories.keys())))\n",
    "pprint(dict(categories))"
   ]
  },
  {
   "cell_type": "code",
   "execution_count": 10,
   "metadata": {},
   "outputs": [],
   "source": [
    "with open(\"data/qb-topics-combined.csv\", \"w\") as f:\n",
    "    for k, v in categories.items():\n",
    "        f.write(\"{},{}\\n\".format(k,v))"
   ]
  },
  {
   "cell_type": "markdown",
   "metadata": {},
   "source": [
    "# Look at dev file"
   ]
  },
  {
   "cell_type": "code",
   "execution_count": 11,
   "metadata": {},
   "outputs": [],
   "source": [
    "path = \"../data/qanta.dev.2018.04.18.json\"\n",
    "with open(path, \"r\") as f:\n",
    "    dev_data = json.loads(f.read())"
   ]
  },
  {
   "cell_type": "code",
   "execution_count": 12,
   "metadata": {},
   "outputs": [],
   "source": [
    "dev_simple_categories = defaultdict(int)\n",
    "dev_categories = defaultdict(int)\n",
    "\n",
    "for q in dev_data[\"questions\"]:\n",
    "    dev_simple_categories[q[\"category\"]] += 1\n",
    "    combined_category = q[\"category\"]\n",
    "    if q[\"subcategory\"] and q[\"subcategory\"] != \"None\":\n",
    "        combined_category = \"{}:{}\".format(q[\"category\"], q[\"subcategory\"])\n",
    "    dev_categories[combined_category] += 1    "
   ]
  },
  {
   "cell_type": "code",
   "execution_count": 13,
   "metadata": {},
   "outputs": [
    {
     "name": "stdout",
     "output_type": "stream",
     "text": [
      "There are 11 high level categories\n",
      "\n",
      "{'Current Events': 24,\n",
      " 'Fine Arts': 310,\n",
      " 'Geography': 64,\n",
      " 'History': 482,\n",
      " 'Literature': 470,\n",
      " 'Mythology': 95,\n",
      " 'Philosophy': 89,\n",
      " 'Religion': 91,\n",
      " 'Science': 469,\n",
      " 'Social Science': 104,\n",
      " 'Trash': 18}\n"
     ]
    }
   ],
   "source": [
    "print(\"There are {} high level categories\\n\".format(len(dev_simple_categories.keys())))\n",
    "pprint(dict(dev_simple_categories))"
   ]
  },
  {
   "cell_type": "code",
   "execution_count": null,
   "metadata": {},
   "outputs": [],
   "source": []
  }
 ],
 "metadata": {
  "kernelspec": {
   "display_name": "cmsc723",
   "language": "python",
   "name": "cmsc723"
  },
  "language_info": {
   "codemirror_mode": {
    "name": "ipython",
    "version": 3
   },
   "file_extension": ".py",
   "mimetype": "text/x-python",
   "name": "python",
   "nbconvert_exporter": "python",
   "pygments_lexer": "ipython3",
   "version": "3.6.1"
  }
 },
 "nbformat": 4,
 "nbformat_minor": 2
}
