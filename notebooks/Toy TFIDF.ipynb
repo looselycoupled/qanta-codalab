{
 "cells": [
  {
   "cell_type": "markdown",
   "metadata": {},
   "source": [
    "# Imports"
   ]
  },
  {
   "cell_type": "code",
   "execution_count": 1,
   "metadata": {},
   "outputs": [],
   "source": [
    "import numpy as np\n",
    "from sklearn.feature_extraction.text import TfidfVectorizer"
   ]
  },
  {
   "cell_type": "markdown",
   "metadata": {},
   "source": [
    "# Training Set"
   ]
  },
  {
   "cell_type": "code",
   "execution_count": 67,
   "metadata": {},
   "outputs": [],
   "source": [
    "# TRAINING_SET = [\n",
    "#     [\n",
    "#         \"horse barn fox hen house farm farmhouse chickens goats plants fields grow farmer tractor\",\n",
    "#         \"engine tires wheel transmission seats steering wheel garage mileage lights gas \",\n",
    "#         \"bat ball glove pitch base foul pole infield inning outfield home run rbi steal double play score first second third base\",\n",
    "#         \"football ball field touchdown foul safety lineman quarterback tackle interception fieldgoal extra point down punt kickoff\",\n",
    "#         \"volleyball ball setter hitter middle serve spike pass attack set quick block net \",\n",
    "#         \"democrat republican election vote political race polls constituency \",\n",
    "#     ],\n",
    "#     [\n",
    "#         \"Farming\",\n",
    "#         \"Auto\",\n",
    "#         \"Baseball\",\n",
    "#         \"Football\",\n",
    "#         \"Volleyball\",\n",
    "#         \"Election\"\n",
    "#     ]\n",
    "# ]\n",
    "\n",
    "TRAINING_SET = [\n",
    "    [\n",
    "        \"bat ball glove pitch base foul pole infield inning outfield \",\n",
    "        \"football ball field touchdown \",\n",
    "        \"volleyball ball setter hitter spike\",\n",
    "    ],\n",
    "    [\n",
    "        \"Baseball\",\n",
    "        \"Football\",\n",
    "        \"Volleyball\",\n",
    "    ]\n",
    "]"
   ]
  },
  {
   "cell_type": "markdown",
   "metadata": {},
   "source": [
    "# Simplified TFIDF Classifier"
   ]
  },
  {
   "cell_type": "code",
   "execution_count": 81,
   "metadata": {},
   "outputs": [],
   "source": [
    "class TFIDF():\n",
    "    \n",
    "    def init(self):\n",
    "        self.i_to_ans = None\n",
    "    \n",
    "    def train(self, training_set):\n",
    "        docs, answers = training_set\n",
    "        self.i_to_ans = {i: ans for i, ans in enumerate(answers)}\n",
    "        vectorizer_kwargs = {\n",
    "            'ngram_range': (1, 1),\n",
    "            'min_df': 1,\n",
    "#             'max_df': .95\n",
    "        }\n",
    "        self.tfidf_vectorizer = TfidfVectorizer(**vectorizer_kwargs).fit(docs)\n",
    "        self.tfidf_matrix = self.tfidf_vectorizer.transform(docs)\n",
    "\n",
    "    def guess(self, questions, max_n_guesses=2):\n",
    "        representations = self.tfidf_vectorizer.transform(questions)\n",
    "        guess_matrix = self.tfidf_matrix.dot(representations.T).T\n",
    "        guess_indices = (-guess_matrix).toarray().argsort(axis=1)[:, 0:max_n_guesses]\n",
    "        guesses = []\n",
    "        for i in range(len(questions)):\n",
    "            idxs = guess_indices[i]\n",
    "            guesses.append([(self.i_to_ans[j], guess_matrix[i, j]) for j in idxs])\n",
    "\n",
    "        return guesses\n"
   ]
  },
  {
   "cell_type": "markdown",
   "metadata": {},
   "source": [
    "# Create and Train the Model"
   ]
  },
  {
   "cell_type": "code",
   "execution_count": 82,
   "metadata": {
    "scrolled": true
   },
   "outputs": [
    {
     "data": {
      "text/plain": [
       "{'bat': 2,\n",
       " 'ball': 0,\n",
       " 'glove': 6,\n",
       " 'pitch': 11,\n",
       " 'base': 1,\n",
       " 'foul': 5,\n",
       " 'pole': 12,\n",
       " 'infield': 8,\n",
       " 'inning': 9,\n",
       " 'outfield': 10,\n",
       " 'football': 4,\n",
       " 'field': 3,\n",
       " 'touchdown': 15,\n",
       " 'volleyball': 16,\n",
       " 'setter': 13,\n",
       " 'hitter': 7,\n",
       " 'spike': 14}"
      ]
     },
     "execution_count": 82,
     "metadata": {},
     "output_type": "execute_result"
    }
   ],
   "source": [
    "model = TFIDF()\n",
    "model.train(TRAINING_SET)\n",
    "model.tfidf_vectorizer.vocabulary_"
   ]
  },
  {
   "cell_type": "markdown",
   "metadata": {},
   "source": [
    "### What is  `model.tfidf_matrix`?  \n",
    "\n",
    "It's a matrix with one row for each training document.  Each column represents a word in the vocabulary.  The value for each vocab word is the `text frequency * inverse document frequency` value."
   ]
  },
  {
   "cell_type": "code",
   "execution_count": 83,
   "metadata": {
    "scrolled": true
   },
   "outputs": [
    {
     "data": {
      "text/plain": [
       "(3, 17)"
      ]
     },
     "execution_count": 83,
     "metadata": {},
     "output_type": "execute_result"
    }
   ],
   "source": [
    "model.tfidf_matrix.shape"
   ]
  },
  {
   "cell_type": "code",
   "execution_count": 84,
   "metadata": {},
   "outputs": [
    {
     "data": {
      "text/plain": [
       "matrix([[0.19316423, 0.32705548, 0.32705548, 0.        , 0.        ,\n",
       "         0.32705548, 0.32705548, 0.        , 0.32705548, 0.32705548,\n",
       "         0.32705548, 0.32705548, 0.32705548, 0.        , 0.        ,\n",
       "         0.        , 0.        ],\n",
       "        [0.32274454, 0.        , 0.        , 0.54645401, 0.54645401,\n",
       "         0.        , 0.        , 0.        , 0.        , 0.        ,\n",
       "         0.        , 0.        , 0.        , 0.        , 0.        ,\n",
       "         0.54645401, 0.        ],\n",
       "        [0.28321692, 0.        , 0.        , 0.        , 0.        ,\n",
       "         0.        , 0.        , 0.47952794, 0.        , 0.        ,\n",
       "         0.        , 0.        , 0.        , 0.47952794, 0.47952794,\n",
       "         0.        , 0.47952794]])"
      ]
     },
     "execution_count": 84,
     "metadata": {},
     "output_type": "execute_result"
    }
   ],
   "source": [
    "model.tfidf_matrix.todense()"
   ]
  },
  {
   "cell_type": "markdown",
   "metadata": {},
   "source": [
    "# Test the Model"
   ]
  },
  {
   "cell_type": "code",
   "execution_count": 85,
   "metadata": {},
   "outputs": [
    {
     "data": {
      "text/plain": [
       "[[('Baseball', 0.501241453322004), ('Football', 0.1243765894759943)],\n",
       " [('Football', 0.546454011634009), ('Baseball', 0.0)]]"
      ]
     },
     "execution_count": 85,
     "metadata": {},
     "output_type": "execute_result"
    }
   ],
   "source": [
    "TEST_SET = [\n",
    "    \"the baseball player sat in the outfield with the ball in his glove between innings\",\n",
    "    \"the redskins won the game with a field goal in the final minutes\"\n",
    "]\n",
    "model.guess(TEST_SET)"
   ]
  },
  {
   "cell_type": "markdown",
   "metadata": {},
   "source": [
    "### What did it mean to transform the test set?\n",
    "\n",
    "This just creates a matrix where each row is an input sentence and the columms represent the entire vocabulary"
   ]
  },
  {
   "cell_type": "code",
   "execution_count": 87,
   "metadata": {},
   "outputs": [
    {
     "name": "stdout",
     "output_type": "stream",
     "text": [
      "(2, 17)\n"
     ]
    },
    {
     "data": {
      "text/plain": [
       "matrix([[0.38537163, 0.        , 0.        , 0.        , 0.        ,\n",
       "         0.        , 0.65249088, 0.        , 0.        , 0.        ,\n",
       "         0.65249088, 0.        , 0.        , 0.        , 0.        ,\n",
       "         0.        , 0.        ],\n",
       "        [0.        , 0.        , 0.        , 1.        , 0.        ,\n",
       "         0.        , 0.        , 0.        , 0.        , 0.        ,\n",
       "         0.        , 0.        , 0.        , 0.        , 0.        ,\n",
       "         0.        , 0.        ]])"
      ]
     },
     "execution_count": 87,
     "metadata": {},
     "output_type": "execute_result"
    }
   ],
   "source": [
    "test_set_transformed = model.tfidf_vectorizer.transform(TEST_SET)\n",
    "print(test_set_transformed.shape)\n",
    "test_set_transformed.todense()"
   ]
  },
  {
   "cell_type": "markdown",
   "metadata": {},
   "source": [
    "### How do we actually classify the input?\n",
    "\n",
    "We do a dot product of the training docs (each of which represents a class) with the vectorized input.  Then we can argmax to find the index of the highest score.  "
   ]
  },
  {
   "cell_type": "code",
   "execution_count": 97,
   "metadata": {
    "scrolled": true
   },
   "outputs": [
    {
     "data": {
      "text/plain": [
       "matrix([[0.50124145, 0.12437659, 0.10914377],\n",
       "        [0.        , 0.54645401, 0.        ]])"
      ]
     },
     "execution_count": 97,
     "metadata": {},
     "output_type": "execute_result"
    }
   ],
   "source": [
    "logits = model.tfidf_matrix.dot(test_set_transformed.T).T\n",
    "logits.todense()"
   ]
  },
  {
   "cell_type": "markdown",
   "metadata": {},
   "source": [
    "Per the original code, let's sort the values in each row to make it easier to read.  This is how one can get the top `n` guesses."
   ]
  },
  {
   "cell_type": "code",
   "execution_count": 98,
   "metadata": {},
   "outputs": [
    {
     "data": {
      "text/plain": [
       "array([[2, 1, 0],\n",
       "       [0, 2, 1]])"
      ]
     },
     "execution_count": 98,
     "metadata": {},
     "output_type": "execute_result"
    }
   ],
   "source": [
    "logits.toarray().argsort(axis=1)"
   ]
  },
  {
   "cell_type": "markdown",
   "metadata": {},
   "source": [
    "Use `np.argmax` to find the indexes of the highest values and then use `model.i_to_ans` to lookup the corresponding class label."
   ]
  },
  {
   "cell_type": "code",
   "execution_count": 123,
   "metadata": {},
   "outputs": [
    {
     "name": "stdout",
     "output_type": "stream",
     "text": [
      "Baseball\n",
      "Football\n"
     ]
    }
   ],
   "source": [
    "for index in np.argmax(logits, axis=1).squeeze().tolist()[0]:\n",
    "    print(model.i_to_ans[index])"
   ]
  },
  {
   "cell_type": "code",
   "execution_count": null,
   "metadata": {},
   "outputs": [],
   "source": []
  }
 ],
 "metadata": {
  "kernelspec": {
   "display_name": "cmsc723",
   "language": "python",
   "name": "cmsc723"
  },
  "language_info": {
   "codemirror_mode": {
    "name": "ipython",
    "version": 3
   },
   "file_extension": ".py",
   "mimetype": "text/x-python",
   "name": "python",
   "nbconvert_exporter": "python",
   "pygments_lexer": "ipython3",
   "version": "3.6.1"
  }
 },
 "nbformat": 4,
 "nbformat_minor": 2
}
