{
 "cells": [
  {
   "cell_type": "markdown",
   "metadata": {},
   "source": [
    "# TF-IDF Guesser Comparison\n",
    "\n",
    "This notebook uses the test dataset to compare accuracy of different versions of the TFIDF model.\n",
    "\n",
    "Note that this notebook uses `tqdm` which can be installed using `pip install tqdm`.  `tqdm` creates progress bars so you can see the status of ongoing processes."
   ]
  },
  {
   "cell_type": "code",
   "execution_count": 52,
   "metadata": {},
   "outputs": [],
   "source": [
    "import os\n",
    "import pickle\n",
    "import json\n",
    "import numpy as np\n",
    "\n",
    "from tqdm import tqdm_notebook, trange\n",
    "\n",
    "import sys\n",
    "sys.path.append(\"../src\")\n",
    "\n",
    "from qanta.tfidf import TfidfGuesser"
   ]
  },
  {
   "cell_type": "code",
   "execution_count": 21,
   "metadata": {},
   "outputs": [
    {
     "name": "stdout",
     "output_type": "stream",
     "text": [
      "Loading tfidf.pickle guesser\n"
     ]
    },
    {
     "name": "stderr",
     "output_type": "stream",
     "text": [
      "/Users/allen/.pyenv/versions/cmsc723/lib/python3.6/site-packages/sklearn/base.py:251: UserWarning: Trying to unpickle estimator TfidfTransformer from version 0.19.2 when using version 0.20.0. This might lead to breaking code or invalid results. Use at your own risk.\n",
      "  UserWarning)\n",
      "/Users/allen/.pyenv/versions/cmsc723/lib/python3.6/site-packages/sklearn/base.py:251: UserWarning: Trying to unpickle estimator TfidfVectorizer from version 0.19.2 when using version 0.20.0. This might lead to breaking code or invalid results. Use at your own risk.\n",
      "  UserWarning)\n"
     ]
    },
    {
     "name": "stdout",
     "output_type": "stream",
     "text": [
      "Loading stem-tfidf.pickle guesser\n"
     ]
    }
   ],
   "source": [
    "os.chdir(\"../src\")\n",
    "guesser = TfidfGuesser.load(stem=False)\n",
    "stem_guesser = TfidfGuesser.load(stem=True)\n"
   ]
  },
  {
   "cell_type": "markdown",
   "metadata": {},
   "source": [
    "# Load testing data"
   ]
  },
  {
   "cell_type": "code",
   "execution_count": 89,
   "metadata": {},
   "outputs": [
    {
     "name": "stdout",
     "output_type": "stream",
     "text": [
      "Total questions in dataset: 4104\n"
     ]
    }
   ],
   "source": [
    "def load_data(filename, ignore_ratio=0, rebalance=False):\n",
    "    data = list()\n",
    "    with open(filename) as json_data:\n",
    "        questions = json.load(json_data)[\"questions\"]\n",
    "        questions = questions[:int(len(questions) * (1- ignore_ratio))]\n",
    "        \n",
    "        for q in questions:\n",
    "            q_text = q['text'].split()\n",
    "            label = q['page']\n",
    "            data.append((q_text, label))\n",
    "    return data\n",
    "\n",
    "test_file = \"../data/qanta.test.2018.04.18.json\"\n",
    "test_exs = load_data(test_file)\n",
    "print(\"Total questions in dataset: {}\".format(len(test_exs)))"
   ]
  },
  {
   "cell_type": "markdown",
   "metadata": {},
   "source": [
    "# Perform a single guess"
   ]
  },
  {
   "cell_type": "code",
   "execution_count": 34,
   "metadata": {},
   "outputs": [
    {
     "data": {
      "text/plain": [
       "[[('Francis_Bacon', 0.28755560466002594)]]"
      ]
     },
     "execution_count": 34,
     "metadata": {},
     "output_type": "execute_result"
    }
   ],
   "source": [
    "guesser.guess([\" \".join(test_exs[0][0])], 1)"
   ]
  },
  {
   "cell_type": "markdown",
   "metadata": {},
   "source": [
    "# Count correct guesses per model"
   ]
  },
  {
   "cell_type": "code",
   "execution_count": 87,
   "metadata": {},
   "outputs": [
    {
     "data": {
      "application/vnd.jupyter.widget-view+json": {
       "model_id": "",
       "version_major": 2,
       "version_minor": 0
      },
      "text/plain": [
       "HBox(children=(IntProgress(value=0, max=21), HTML(value='')))"
      ]
     },
     "metadata": {},
     "output_type": "display_data"
    },
    {
     "name": "stdout",
     "output_type": "stream",
     "text": [
      "\r",
      "Original TFIDF: 1923\n"
     ]
    },
    {
     "data": {
      "application/vnd.jupyter.widget-view+json": {
       "model_id": "",
       "version_major": 2,
       "version_minor": 0
      },
      "text/plain": [
       "HBox(children=(IntProgress(value=0, max=21), HTML(value='')))"
      ]
     },
     "metadata": {},
     "output_type": "display_data"
    },
    {
     "name": "stdout",
     "output_type": "stream",
     "text": [
      "\r",
      "Stemming TFIDF: 1937\n"
     ]
    }
   ],
   "source": [
    "def score(guesser, exes, batch_size=200):\n",
    "    no_correct = 0\n",
    "    for idx in tqdm_notebook(range(0, len(exes), batch_size), leave=False):\n",
    "        data = exes[idx: idx+batch_size]\n",
    "        questions = [\" \".join(s[0]) for s in data]\n",
    "        answers = [s[1] for s in data]\n",
    "        guesses = np.array([ans[0][0] for ans in guesser.guess(questions, 1)])\n",
    "        no_correct += (guesses == np.array(answers)).sum()\n",
    "\n",
    "    return no_correct\n",
    "\n",
    "print(\"Original TFIDF: {}\".format(score(guesser, test_exs)))\n",
    "print(\"Stemming TFIDF: {}\".format(score(stem_guesser, test_exs)))"
   ]
  },
  {
   "cell_type": "code",
   "execution_count": null,
   "metadata": {},
   "outputs": [],
   "source": []
  }
 ],
 "metadata": {
  "kernelspec": {
   "display_name": "cmsc723",
   "language": "python",
   "name": "cmsc723"
  },
  "language_info": {
   "codemirror_mode": {
    "name": "ipython",
    "version": 3
   },
   "file_extension": ".py",
   "mimetype": "text/x-python",
   "name": "python",
   "nbconvert_exporter": "python",
   "pygments_lexer": "ipython3",
   "version": "3.6.1"
  }
 },
 "nbformat": 4,
 "nbformat_minor": 2
}
