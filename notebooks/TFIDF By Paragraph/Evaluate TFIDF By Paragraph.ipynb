{
 "cells": [
  {
   "cell_type": "code",
   "execution_count": 34,
   "metadata": {},
   "outputs": [],
   "source": [
    "import time\n",
    "import json\n",
    "from glob import glob\n",
    "from pprint import pprint\n",
    "\n",
    "import numpy as np\n",
    "from sklearn.feature_extraction.text import TfidfVectorizer\n"
   ]
  },
  {
   "cell_type": "code",
   "execution_count": null,
   "metadata": {},
   "outputs": [],
   "source": []
  },
  {
   "cell_type": "code",
   "execution_count": null,
   "metadata": {},
   "outputs": [],
   "source": []
  },
  {
   "cell_type": "code",
   "execution_count": 2,
   "metadata": {},
   "outputs": [
    {
     "data": {
      "text/plain": [
       "['/Users/allen/Projects/cmsc723/qanta-codalab/experiments/wiki-dataset-wrangle/data/training_set.4.json',\n",
       " '/Users/allen/Projects/cmsc723/qanta-codalab/experiments/wiki-dataset-wrangle/data/training_set.5.json',\n",
       " '/Users/allen/Projects/cmsc723/qanta-codalab/experiments/wiki-dataset-wrangle/data/training_set.2.json',\n",
       " '/Users/allen/Projects/cmsc723/qanta-codalab/experiments/wiki-dataset-wrangle/data/training_set.3.json',\n",
       " '/Users/allen/Projects/cmsc723/qanta-codalab/experiments/wiki-dataset-wrangle/data/training_set.0.json',\n",
       " '/Users/allen/Projects/cmsc723/qanta-codalab/experiments/wiki-dataset-wrangle/data/training_set.1.json',\n",
       " '/Users/allen/Projects/cmsc723/qanta-codalab/experiments/wiki-dataset-wrangle/data/training_set.6.json',\n",
       " '/Users/allen/Projects/cmsc723/qanta-codalab/experiments/wiki-dataset-wrangle/data/training_set.7.json']"
      ]
     },
     "execution_count": 2,
     "metadata": {},
     "output_type": "execute_result"
    }
   ],
   "source": [
    "path = \"/Users/allen/Projects/cmsc723/qanta-codalab/experiments/wiki-dataset-wrangle/data/\"\n",
    "files = glob(path + \"training_set*.json\")\n",
    "files"
   ]
  },
  {
   "cell_type": "markdown",
   "metadata": {},
   "source": [
    "# View a sample from one of the files"
   ]
  },
  {
   "cell_type": "code",
   "execution_count": 26,
   "metadata": {},
   "outputs": [
    {
     "name": "stdout",
     "output_type": "stream",
     "text": [
      "[{'ans': 'Anna_Kournikova',\n",
      "  'text': 'Anna Kournikova Anna Sergeyevna Kournikova (; born 7 June 1981) is '\n",
      "          'a Russian former professional tennis player. Her appearance and '\n",
      "          'celebrity status made her one of the best known tennis stars '\n",
      "          'worldwide. At the peak of her fame, fans looking for images of '\n",
      "          'Kournikova made her name one of the most common search strings on '\n",
      "          'Google Search.'},\n",
      " {'ans': 'Anna_Kournikova',\n",
      "  'text': 'Despite never winning a singles title, she reached No.\\xa08 in the '\n",
      "          'world in 2000. She achieved greater success playing doubles, where '\n",
      "          'she was at times the world No.\\xa01 player. With Martina Hingis as '\n",
      "          'her partner, she won Grand Slam titles in Australia in 1999 and '\n",
      "          '2002, and the WTA Championships in 1999 and 2000. They referred to '\n",
      "          'themselves as the \"Spice Girls of Tennis\".'}]\n",
      "Total paragraphs in a single file: 1986418\n"
     ]
    }
   ],
   "source": [
    "def data_generator(limit=None):\n",
    "    for file in files[:limit]:\n",
    "        with open(file, \"r\") as f:\n",
    "            for line in f:\n",
    "                 yield json.loads(line)\n",
    "\n",
    "paras = [ii for ii in data_generator(1)]\n",
    "pprint(paras[:2])\n",
    "print(f\"Total paragraphs in a single file: {len(paras)}\")"
   ]
  },
  {
   "cell_type": "markdown",
   "metadata": {},
   "source": [
    "# Create and Validate data reader"
   ]
  },
  {
   "cell_type": "code",
   "execution_count": 21,
   "metadata": {
    "scrolled": false
   },
   "outputs": [
    {
     "name": "stdout",
     "output_type": "stream",
     "text": [
      "('Anna Kournikova Anna Sergeyevna Kournikova (; born 7 June 1981) is a Russian '\n",
      " 'former professional tennis player. Her appearance and celebrity status made '\n",
      " 'her one of the best known tennis stars worldwide. At the peak of her fame, '\n",
      " 'fans looking for images of Kournikova made her name one of the most common '\n",
      " 'search strings on Google Search.')\n",
      "('Agnosticism Agnosticism is the view that the existence of God, of the divine '\n",
      " 'or the supernatural is unknown or unknowable. English biologist Thomas Henry '\n",
      " 'Huxley coined the word \"agnostic\" in 1869, and said \"It simply means that a '\n",
      " 'man shall not say he knows or believes that which he has no scientific '\n",
      " 'grounds for professing to know or believe.\" Earlier thinkers, however, had '\n",
      " 'written works that promoted agnostic points of view, such as Sanjaya '\n",
      " 'Belatthaputta, a 5th-century BCE Indian philosopher who expressed '\n",
      " 'agnosticism about any afterlife; and Protagoras, a 5th-century BCE Greek '\n",
      " 'philosopher who expressed agnosticism about the existence of \"the gods\". The '\n",
      " 'Nasadiya Sukta in the Rigveda is agnostic about the origin of the universe.')\n",
      "('Characteristics. Argon has approximately the same solubility in water as '\n",
      " 'oxygen and is 2.5 times more soluble in water than nitrogen. Argon is '\n",
      " 'colorless, odorless, nonflammable and nontoxic as a solid, liquid or gas. '\n",
      " 'Argon is chemically inert under most conditions and forms no confirmed '\n",
      " 'stable compounds at room temperature.')\n",
      "{0: 'Anna_Kournikova',\n",
      " 1: 'Anna_Kournikova',\n",
      " 2: 'Anna_Kournikova',\n",
      " 3: 'Anna_Kournikova',\n",
      " 4: 'Anna_Kournikova',\n",
      " 5: 'Anna_Kournikova',\n",
      " 6: 'Anna_Kournikova',\n",
      " 7: 'Anna_Kournikova',\n",
      " 8: 'Anna_Kournikova',\n",
      " 9: 'Anna_Kournikova',\n",
      " 10: 'Anna_Kournikova',\n",
      " 11: 'Anna_Kournikova',\n",
      " 12: 'Anna_Kournikova',\n",
      " 13: 'Anna_Kournikova',\n",
      " 14: 'Anna_Kournikova',\n",
      " 15: 'Anna_Kournikova',\n",
      " 16: 'Anna_Kournikova',\n",
      " 17: 'Anna_Kournikova',\n",
      " 18: 'Anna_Kournikova',\n",
      " 19: 'Anna_Kournikova',\n",
      " 20: 'Anna_Kournikova',\n",
      " 21: 'Anna_Kournikova',\n",
      " 22: 'Anna_Kournikova',\n",
      " 23: 'Anna_Kournikova',\n",
      " 24: 'Anna_Kournikova',\n",
      " 25: 'Anna_Kournikova',\n",
      " 26: 'Anna_Kournikova',\n",
      " 27: 'Alfons_Maria_Jakob',\n",
      " 28: 'Alfons_Maria_Jakob',\n",
      " 29: 'Alfons_Maria_Jakob',\n",
      " 30: 'Agnosticism',\n",
      " 31: 'Agnosticism',\n",
      " 32: 'Agnosticism',\n",
      " 33: 'Agnosticism',\n",
      " 34: 'Agnosticism',\n",
      " 35: 'Agnosticism',\n",
      " 36: 'Agnosticism',\n",
      " 37: 'Agnosticism',\n",
      " 38: 'Agnosticism',\n",
      " 39: 'Agnosticism',\n",
      " 40: 'Agnosticism',\n",
      " 41: 'Agnosticism',\n",
      " 42: 'Agnosticism',\n",
      " 43: 'Agnosticism',\n",
      " 44: 'Agnosticism',\n",
      " 45: 'Agnosticism',\n",
      " 46: 'Argon',\n",
      " 47: 'Argon',\n",
      " 48: 'Argon',\n",
      " 49: 'Argon'}\n"
     ]
    }
   ],
   "source": [
    "class WikidataIterator(object):\n",
    "    def __init__(self, files, limit=None):\n",
    "        self.files = files\n",
    "        self.limit = limit\n",
    "        self.i_to_ans = {}\n",
    "\n",
    "    def _doc_iterator(self):\n",
    "        counter = 0\n",
    "        for path in self.files:\n",
    "            with open(path, \"r\") as f:\n",
    "                for line in f:\n",
    "                    yield json.loads(line)\n",
    "                    counter += 1\n",
    "                    if self.limit and counter >= self.limit:\n",
    "                        return\n",
    "\n",
    "    @property\n",
    "    def docs(self):\n",
    "        counter = 0\n",
    "        for doc in self._doc_iterator():\n",
    "            ans = doc[\"ans\"]\n",
    "            text = doc[\"text\"]\n",
    "\n",
    "            self.i_to_ans[counter] = ans\n",
    "            counter += 1\n",
    "            yield text\n",
    "\n",
    "\n",
    "wikidata = WikidataIterator(files, limit=50)\n",
    "docs = [item for item in wikidata.docs]\n",
    "pprint(docs[0])\n",
    "pprint(docs[30])\n",
    "pprint(docs[49])\n",
    "pprint(wikidata.i_to_ans)"
   ]
  },
  {
   "cell_type": "markdown",
   "metadata": {},
   "source": [
    "# Create TF/IDF Model"
   ]
  },
  {
   "cell_type": "code",
   "execution_count": 67,
   "metadata": {},
   "outputs": [],
   "source": [
    "class TFIDF():\n",
    "\n",
    "    def __init__(self, limit=None):\n",
    "        self.i_to_ans = None\n",
    "        self.limit = limit\n",
    "\n",
    "    def train(self, ngram_range=(1, 1), min_df=2, max_df=.75):\n",
    "        wikidata = WikidataIterator(files[:self.limit])\n",
    "        self.docs = [ii for ii in wikidata.docs]\n",
    "\n",
    "        vectorizer_kwargs = {\n",
    "            'ngram_range': ngram_range,\n",
    "            'min_df': min_df,\n",
    "            'max_df': max_df\n",
    "        }\n",
    "        start = time.time()\n",
    "        self.tfidf_vectorizer = TfidfVectorizer(**vectorizer_kwargs).fit(self.docs)\n",
    "        elapsed = int(time.time() - start)\n",
    "        print(\"INFO: fit completed in {} seconds\".format(elapsed))\n",
    "\n",
    "        start = time.time()\n",
    "        self.tfidf_matrix = self.tfidf_vectorizer.transform(self.docs)\n",
    "        elapsed = int(time.time() - start)\n",
    "        print(\"INFO: transform completed in {} seconds\".format(elapsed))\n",
    "\n",
    "        self.i_to_ans = wikidata.i_to_ans\n",
    "\n",
    "    def guess(self, questions, max_n_guesses=2):\n",
    "        representations = self.tfidf_vectorizer.transform(questions)\n",
    "        guess_matrix = self.tfidf_matrix.dot(representations.T).T\n",
    "        guess_indices = (-guess_matrix).toarray().argsort(axis=1)[:, 0:max_n_guesses]\n",
    "        guesses = []\n",
    "        for i in range(len(questions)):\n",
    "            idxs = guess_indices[i]\n",
    "            guesses.append([(self.i_to_ans[j], i, j, guess_matrix[i, j]) for j in idxs])\n",
    "\n",
    "        return guesses"
   ]
  },
  {
   "cell_type": "code",
   "execution_count": 65,
   "metadata": {},
   "outputs": [],
   "source": [
    "model = None"
   ]
  },
  {
   "cell_type": "markdown",
   "metadata": {},
   "source": [
    "# Create dataset loader"
   ]
  },
  {
   "cell_type": "code",
   "execution_count": 30,
   "metadata": {},
   "outputs": [
    {
     "name": "stdout",
     "output_type": "stream",
     "text": [
      "('One work by this author uses printing, gunpowder, and the compass as symbols '\n",
      " 'of personal ambition, national ambition, and the ambition of the human race '\n",
      " 'to extend its grasp. This thinker described three forms of false learning as '\n",
      " '\"delicate\", \"contentious\", and \"fantastical\" in categorizing the '\n",
      " '\"distempers\" that impede academic progress. This thinker imagined a utopian '\n",
      " \"university called Salomon's House, and he likened received systems of \"\n",
      " 'philosophy to stage plays that misrepresent the world, and thus labeled them '\n",
      " '\"idols of the theatre\". This author of The New Atlantis established the '\n",
      " 'doctrine of inductive, empirical methodology. For 10 points, name this '\n",
      " '17th-century English philosopher who wrote Novum Organum and spearheaded the '\n",
      " 'Scientific Revolution.',\n",
      " 'Francis_Bacon')\n",
      "(\"One character in this play ignores news of his wife's fever, while repeating \"\n",
      " 'the line \"Poor fellow!\" in response to reports of the gluttony of a '\n",
      " 'character who drank four beakers of port. In one scene in this play, a man '\n",
      " 'misses while trying to slap his impudent maid, who keeps interrupting him to '\n",
      " 'protest his plans to marry off his daughter against her will. By hiding in a '\n",
      " 'closet, Damis overhears the title character of this play attempt to seduce '\n",
      " \"Elmire, the wife of his host. The title character plans to use Argas' casket \"\n",
      " 'full of incriminating documents to blackmail the brother of Cléante, until a '\n",
      " 'messenger from Louis XIV arrives to have him arrested instead. For 10 '\n",
      " \"points, name this play in which Orgon's family hosts the title religious \"\n",
      " 'hypocrite, a play by Molière.',\n",
      " 'Tartuffe')\n"
     ]
    }
   ],
   "source": [
    "TRAIN_FILE = \"/Users/allen/Projects/cmsc723/qanta-codalab/data/qanta.train.2018.04.18.json\"\n",
    "TEST_FILE = \"/Users/allen/Projects/cmsc723/qanta-codalab/data/qanta.test.2018.04.18.json\"\n",
    "\n",
    "def load_data(filename):\n",
    "    data = list()\n",
    "    with open(filename) as json_data:\n",
    "        for q in json.load(json_data)[\"questions\"]:\n",
    "            yield (q['text'], q['page'])    \n",
    "\n",
    "def test_load():\n",
    "    counter = 0\n",
    "    for item in load_data(TEST_FILE):\n",
    "        pprint(item)\n",
    "        counter += 1\n",
    "        if counter == 2: break\n",
    "test_load()"
   ]
  },
  {
   "cell_type": "markdown",
   "metadata": {},
   "source": [
    "# Evaluate TF/IDF By Paragraph on TEST data"
   ]
  },
  {
   "cell_type": "markdown",
   "metadata": {},
   "source": [
    "fit model"
   ]
  },
  {
   "cell_type": "code",
   "execution_count": 68,
   "metadata": {
    "scrolled": true
   },
   "outputs": [
    {
     "name": "stdout",
     "output_type": "stream",
     "text": [
      "INFO: fit completed in 217 seconds\n",
      "INFO: transform completed in 211 seconds\n"
     ]
    }
   ],
   "source": [
    "model = TFIDF(limit=1)\n",
    "model.train()"
   ]
  },
  {
   "cell_type": "code",
   "execution_count": 48,
   "metadata": {},
   "outputs": [
    {
     "name": "stdout",
     "output_type": "stream",
     "text": [
      "unique answers: 419601\n"
     ]
    }
   ],
   "source": [
    "unique_answers = len(set(model.i_to_ans.values()))\n",
    "print(f\"unique answers: {unique_answers}\")"
   ]
  },
  {
   "cell_type": "markdown",
   "metadata": {},
   "source": [
    "test model"
   ]
  },
  {
   "cell_type": "code",
   "execution_count": 71,
   "metadata": {
    "scrolled": false
   },
   "outputs": [
    {
     "name": "stdout",
     "output_type": "stream",
     "text": [
      "{'ans': 'Angular_momentum_operator',\n",
      " 'guess': 'Quantity_adjustment',\n",
      " 'guess_text': 'Quantity adjustment In economics, quantity adjustment is the '\n",
      "               'process by which a market surplus leads to a cut-back in the '\n",
      "               'quantity supplied or a market shortage causes an increase in '\n",
      "               'supplied quantity. It is one possible result of supply and '\n",
      "               'demand disequilibrium in a market. Quantity adjustment is '\n",
      "               'complementary to pricing.',\n",
      " 'para_index': 351306,\n",
      " 'question': 'Calculating a Racah W-coefficient requires knowledge of six '\n",
      "             'parameters corresponding to this quantity. Another set of '\n",
      "             'coefficients arising from this quantity relate reduced matrix '\n",
      "             'elements to the spherical tensor. The individual components of '\n",
      "             'the operator corresponding to this quantity commute with its '\n",
      "             'square, but not with each other. That square of the operator '\n",
      "             'corresponding to this quantity has as its eigenfunctions the '\n",
      "             \"spherical harmonics. This quantity's conservation follows by \"\n",
      "             \"Noether's theorem from rotational invariance, and implies \"\n",
      "             \"Kepler's second law. In the case of a particle undergoing \"\n",
      "             \"uniform circular motion, this quantity's magnitude equals m \"\n",
      "             'times v times r. For 10 points, name this quantity, equal to '\n",
      "             'moment of inertia times angular velocity.'}\n",
      "{'ans': 'Parthia',\n",
      " 'guess': 'Battle_of_the_Cilician_Gates',\n",
      " 'guess_text': 'Battle of the Cilician Gates The Battle of the Cilician Gates '\n",
      "               'in 39 BC was a decisive victory for the Roman general Publius '\n",
      "               'Ventidius Bassus over the Parthian army and its Roman allies '\n",
      "               'who served under Quintus Labienus in Asia Minor. Prelude. '\n",
      "               'Parthian forces made a number of raids into Roman territory '\n",
      "               'after the defeat of the Roman army under Crassus at the Battle '\n",
      "               'of Carrhae. The Romans under Gaius Cassius Longinus defended '\n",
      "               'the border against these Parthian incursions successfully. '\n",
      "               'However, in 40 BC a Parthian invasion force allied with rebel '\n",
      "               'Roman forces who served under Quintus Labienus attacked the '\n",
      "               'eastern Roman provinces, they enjoyed great success as '\n",
      "               'Labienus took all of Asia Minor except for a few cities, while '\n",
      "               'the young king Pacorus I of Parthia took over Syria and the '\n",
      "               'Hasmonean state in Judea. After these incidents Mark Antony '\n",
      "               'gave command of the eastern Roman forces to his lieutenant, '\n",
      "               'Publius Ventidius Bassus, a skilled military general who '\n",
      "               'served under Julius Caesar. Ventidius landed unexpectedly on '\n",
      "               'the coast of Asia Minor, which forced Labienus to fall back to '\n",
      "               'Cilicia where he received additional Parthian reinforcements '\n",
      "               'from Pacorus. After Labienus had regrouped with Pacorus’s '\n",
      "               'additional forces, his and Ventidius’s armies met somewhere at '\n",
      "               'the Taurus Mountains.',\n",
      " 'para_index': 1298338,\n",
      " 'question': \"Coinage similarities caused this state's name to be appended to \"\n",
      "             'an unrelated Taxilan kingdom that produced stone palettes known '\n",
      "             'as \"toilet trays\" and was founded by Gondophares I. The '\n",
      "             'concubine Thermusa became queen of this state, but sparked a '\n",
      "             'revolt by a disgusted populace after murdering her husband and '\n",
      "             'marrying her son Phraataces. This state allied Quintus Labienus '\n",
      "             'but was defeated at Amanus Pass and the Cilician Gates under '\n",
      "             'Pacorus I. Surena won its greatest victory by pinning '\n",
      "             'legionaries to their own shields, using composite bows to fire '\n",
      "             \"backwards from horseback, a tactic known as this empire's \"\n",
      "             'namesake \"shot.\" It was ruled by the Arsacid line and supplanted '\n",
      "             \"by Ardashir's Sassanids. For 10 points, name this Persian empire \"\n",
      "             'that defeated Crassus at the Battle of Carrhae.'}\n",
      "{'ans': 'Orhan_Pamuk',\n",
      " 'guess': 'Author_profiling',\n",
      " 'guess_text': '</p> <p> There are three major fields in AAI: authorship '\n",
      "               'attribution, author identification, and author profiling. In '\n",
      "               'the first two, the goal is to recognize the author from a set '\n",
      "               'of authors, while in author profiling, the goal is to find '\n",
      "               'specific characteristics of the author, based on stylistic- or '\n",
      "               'content-based features.',\n",
      " 'para_index': 1963919,\n",
      " 'question': 'In a work by this author, a picture of a tree proclaims \"I '\n",
      "             'don\\'t want to be a tree, I want to be its meaning\". This author '\n",
      "             'created a character who saves 4,213 cigarette butts discarded by '\n",
      "             \"the woman he loves. One of this author's characters blinds \"\n",
      "             'himself with a plume needle, so that he can paint only from his '\n",
      "             \"memory, without using his eyes. Another of this author's \"\n",
      "             'protagonists falls in love with a salesgirl who turns out to be '\n",
      "             'a distant cousin, while he is shopping for a handbag for his '\n",
      "             'fiancée Sibel. That protagonist collects mundane objects '\n",
      "             \"belonging to Füsun in this author's The Museum of Innocence. He \"\n",
      "             'wrote a novel about the murdered miniaturist Elegant Effendi. '\n",
      "             'For 10 points, name this author of My Name is Red and Snow, a '\n",
      "             'Nobel Prize-winning Turkish novelist.'}\n",
      "{'ans': 'Classical_Chinese',\n",
      " 'guess': 'Ian_Ramsey',\n",
      " 'guess_text': 'Two languages. In his \"Religious Language\", Ramsey '\n",
      "               'differentiates two kinds of language. He denotes one kind '\n",
      "               'variously as “observational language,” “ordinary language,” '\n",
      "               '“straightforward language,” or “straightforward public '\n",
      "               'language.” To simplify, this first kind of language can be '\n",
      "               'called “ordinary language.” Ramsey calls the other kind of '\n",
      "               'language “religious language,” the language of theology. He '\n",
      "               'cautions that religious language will be “logically odd” '\n",
      "               'because “God” is “a word \"outside\" ordinary language.” Thus, '\n",
      "               'even though religious language is “grammatically simple,” its '\n",
      "               '“logical structure” is neither plain nor straightforward. The '\n",
      "               'challenge for religious language, in Ramsey’s estimation, is '\n",
      "               'how to make “ordinary language” into a “suitable currency” for '\n",
      "               'the “religious language” of theology without its being misread '\n",
      "               'as straightforward language.',\n",
      " 'para_index': 923135,\n",
      " 'question': 'One poem in this language describes waterfalls with \"thunderclap '\n",
      "             'from ten thousand glens\" as among the obstacles that make a '\n",
      "             'journey \"harder than scaling the blue sky.\" A.C. Graham and '\n",
      "             'David Hinton are known for translating poetry of this language. '\n",
      "             'A poet in this language described the \"white dew\" soaking '\n",
      "             'slippers of a fading beauty in early autumn in his poem \"Marble '\n",
      "             'Stairs Grievance.\" One poem in this language begins by '\n",
      "             'describing horses neighing and wagons squeaking and trundling. '\n",
      "             'Another of poems in this language ends: \"Forever we will keep '\n",
      "             'this unfetter friendship / Till we meet again far in the Milky '\n",
      "             'Way.\" This language was used to write the poems \"Ballad of the '\n",
      "             'Army Carts\" and \"Drinking Alone by Moonlight.\" For 10 points, '\n",
      "             'name this language used by Du Fu and Li Bai'}\n",
      "{'ans': '7',\n",
      " 'guess': 'Seven_trumpets',\n",
      " 'guess_text': 'Seven trumpets Seven trumpets are sounded, one at a time, to '\n",
      "               'cue apocalyptic events that were seen in the vision of the '\n",
      "               '\"Revelation of Christ Jesus\", by John of Patmos, as written in '\n",
      "               'the Book of Revelation of the New Testament. The seven '\n",
      "               'trumpets are sounded by seven angels and the events that '\n",
      "               'follow are described in detail from Revelation Chapters 8 to '\n",
      "               '11. According to Revelation 8:1-2, the angels sound these '\n",
      "               'trumpets after the breaking of the seventh seal. These seals '\n",
      "               'secured the apocalyptic document, that was in the right hand '\n",
      "               'of \"Him\" who sits on the main throne. The trumpets are '\n",
      "               'referred to in Koine Greek as σάλπιγγος (\"salpingos\", '\n",
      "               'salpinx); this was a straight, narrow bronze tube with a '\n",
      "               'mouthpiece of bone and a bell; they do not resemble modern '\n",
      "               'trumpets.',\n",
      " 'para_index': 1523322,\n",
      " 'question': 'At the beginning of Revelation, John sees the Lord standing '\n",
      "             'among this many golden candlesticks. In John, Jesus makes this '\n",
      "             'many \"I am\" statements. The Counting of the Omer lasts this many '\n",
      "             'weeks. In Revelation, a dragon with ten horns and this many '\n",
      "             'heads appears soon after angels blow this many trumpets. On the '\n",
      "             'last day of his siege, Joshua is told to march around Jericho '\n",
      "             'this many times before the wall will collapse. The Book of '\n",
      "             \"Ezekiel records this many of the prophet's visions. Noah is told \"\n",
      "             'to take this many pairs of each clean animal onto the ark. '\n",
      "             'Chastity and temperance are among this many virtues of '\n",
      "             'Christianity. For 10 points, on what numbered day of the '\n",
      "             'JudeoChristian Creation did God rest?'}\n"
     ]
    },
    {
     "name": "stdout",
     "output_type": "stream",
     "text": [
      "{'ans': 'RNA_splicing',\n",
      " 'guess': 'Process_performance_index',\n",
      " 'guess_text': 'Process performance index In process improvement efforts, the '\n",
      "               'process performance index is an estimate of the process '\n",
      "               'capability of a process during its initial set-up, \"before\" it '\n",
      "               'has been brought into a state of statistical control. '\n",
      "               'Formally, if the upper and lower specifications of the process '\n",
      "               'are USL and LSL, the estimated mean of the process is '\n",
      "               'formula_1, and the estimated variability of the process '\n",
      "               '(expressed as a standard deviation) is formula_2, then the '\n",
      "               'process performance index is defined as: formula_2 is '\n",
      "               'estimated using the sample standard deviation. P may be '\n",
      "               'negative if the process mean falls outside the specification '\n",
      "               'limits (because the process is producing a large proportion of '\n",
      "               'defective output). Some specifications may only be one sided '\n",
      "               '(for example, strength). For specifications that only have a '\n",
      "               'lower limit, formula_5; for those that only have an upper '\n",
      "               'limit, formula_6. Practitioners may also encounter formula_7, '\n",
      "               'a metric that does not account for process performance not '\n",
      "               'exactly centered between the specification limits, and '\n",
      "               'therefore is interpreted as what the process would be capable '\n",
      "               'of achieving if it could be centered and stabilized. '\n",
      "               'Interpretation. Larger values of P may be interpreted to '\n",
      "               'indicate that a process is more capable of producing output '\n",
      "               'within the specification limits, though this interpretation is '\n",
      "               'controversial. Strictly speaking, from a statistical '\n",
      "               'standpoint, P is meaningless if the process under study is not '\n",
      "               'in control because one cannot reliably estimate the process '\n",
      "               'underlying probability distribution, let alone parameters like '\n",
      "               'formula_1 and formula_2. Furthermore, using this metric of '\n",
      "               'past process performance to predict future performance is '\n",
      "               'highly suspect.',\n",
      " 'para_index': 1002008,\n",
      " 'question': 'TIA1 controls the mechanism of this process for the apoptotic '\n",
      "             'Fas receptor. The method by which this process occurs to '\n",
      "             'Doublesex determines the sex of a given Drosophila cell. SR '\n",
      "             'proteins bind to ESE motifs that enhance this process. '\n",
      "             'Morpholinos typically accomplish gene knockdown by inhibiting '\n",
      "             'this process. Group I and II ribozymes can perform this action '\n",
      "             'upon themselves. The complex that accomplishes this task is '\n",
      "             'composed of U1 through U6 snRNPS [\"Snurps\"]. The sections '\n",
      "             'excised in this process form a lariat loop structure. For 10 '\n",
      "             'points, identify this pretranslation process in which introns, '\n",
      "             'or \"junk DNA\", are removed from mRNA and the remaining exons '\n",
      "             'glued back together.'}\n"
     ]
    }
   ],
   "source": [
    "def view_answers():\n",
    "    counter = 0\n",
    "    for question, ans in load_data(TEST_FILE):\n",
    "        if ans in model.i_to_ans.values():\n",
    "            guess, unk, para_index, _ = model.guess([question], max_n_guesses=1)[0][0]\n",
    "            pprint({\"question\": question, \"ans\": ans, \"guess\": guess, \"para_index\": para_index, \"guess_text\": model.docs[para_index],})\n",
    "\n",
    "            counter += 1\n",
    "            if counter > 5: break\n",
    "        \n",
    "\n",
    "view_answers()"
   ]
  },
  {
   "cell_type": "code",
   "execution_count": 75,
   "metadata": {},
   "outputs": [],
   "source": [
    "from tqdm import tqdm_notebook"
   ]
  },
  {
   "cell_type": "code",
   "execution_count": 82,
   "metadata": {},
   "outputs": [
    {
     "data": {
      "application/vnd.jupyter.widget-view+json": {
       "model_id": "459e94e39afb4ec5a71effadb41da1de",
       "version_major": 2,
       "version_minor": 0
      },
      "text/plain": [
       "HBox(children=(IntProgress(value=0, max=4104), HTML(value='')))"
      ]
     },
     "metadata": {},
     "output_type": "display_data"
    },
    {
     "data": {
      "text/plain": [
       "{'correct': 60, 'num_questions': 560, 'accuracy': 0.10714285714285714}"
      ]
     },
     "execution_count": 82,
     "metadata": {},
     "output_type": "execute_result"
    }
   ],
   "source": [
    "TEST_NUM = 4104\n",
    "\n",
    "def get_accuracy():\n",
    "    counter = 0\n",
    "    correct = 0\n",
    "    for question, ans in tqdm_notebook(load_data(TEST_FILE),  total=TEST_NUM):\n",
    "        if ans in model.i_to_ans.values():\n",
    "            counter += 1\n",
    "            guess, unk, para_index, _ = model.guess([question], max_n_guesses=1)[0][0]\n",
    "            if ans == guess:\n",
    "                correct += 1\n",
    "    return {\"correct\": correct, \"num_questions\": counter, \"accuracy\": correct / counter,}\n",
    "        \n",
    "\n",
    "get_accuracy()"
   ]
  },
  {
   "cell_type": "code",
   "execution_count": null,
   "metadata": {},
   "outputs": [],
   "source": []
  }
 ],
 "metadata": {
  "kernelspec": {
   "display_name": "cmsc723",
   "language": "python",
   "name": "cmsc723"
  },
  "language_info": {
   "codemirror_mode": {
    "name": "ipython",
    "version": 3
   },
   "file_extension": ".py",
   "mimetype": "text/x-python",
   "name": "python",
   "nbconvert_exporter": "python",
   "pygments_lexer": "ipython3",
   "version": "3.6.1"
  }
 },
 "nbformat": 4,
 "nbformat_minor": 2
}
