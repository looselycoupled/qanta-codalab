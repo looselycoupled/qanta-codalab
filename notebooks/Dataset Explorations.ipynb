{
 "cells": [
  {
   "cell_type": "markdown",
   "metadata": {},
   "source": [
    "# Overview\n",
    "\n",
    "This notebook is for peek into data files to see what they contain.\n",
    "\n",
    "# Imports"
   ]
  },
  {
   "cell_type": "code",
   "execution_count": 29,
   "metadata": {},
   "outputs": [],
   "source": [
    "import os\n",
    "import sys\n",
    "sys.path\n",
    "sys.path.append('../src')\n",
    "os.chdir(\"..\")\n",
    "\n",
    "import json\n",
    "from pprint import pprint\n",
    "from qanta.dataset import QuizBowlDataset"
   ]
  },
  {
   "cell_type": "markdown",
   "metadata": {},
   "source": [
    "# QuizBowlDataset\n",
    "\n",
    "The QuizBowlDataset contains qanta questions and answers for training.  It uses the following that were downloaded by the qanta project codebase:\n",
    "\n",
    "* qanta.dev.2018.04.18.json\n",
    "* qanta.mapped.2018.04.18.json\n",
    "* qanta.test.2018.04.18.json\n",
    "* qanta.train.2018.04.18.json"
   ]
  },
  {
   "cell_type": "code",
   "execution_count": 28,
   "metadata": {},
   "outputs": [
    {
     "name": "stdout",
     "output_type": "stream",
     "text": [
      "2018.04.18\n",
      "\n",
      "Romanian_language\n",
      "\n",
      "['The oldest document written in this language is a letter written in 1521 in the town of Câmpulung, while more recent poets writing in this language include Carmen Sylva and Anton Pann.', 'This language uses five cases, though the genitive and dative cases are identical, as are the nominative and accusative.', 'Tripthongs occur frequently in this language, as in \"rusaoică,\" while interjections in this language include \"mamă-mamă.', '\" It is more closely related to Dalmatian than to Italian or Spanish, and this language includes the pronouns \"noi,\" \"voi,\" and \"eu\" [\"AY-oo\"] and favors labial consonants such as \"b\" and \"m\" over velars such as \"g\" and \"k.\" For 10 points, name this tongue spoken by the members of O-Zone and Nicolae Ceauşescu, an Eastern Romance language spoken in Bucharest.']\n"
     ]
    }
   ],
   "source": [
    "ds = QuizBowlDataset(guesser_train=True)\n",
    "print(ds.db.version + \"\\n\")\n",
    "training_examples, training_pages, _ = ds.training_data()\n",
    "print(training_pages[0] + \"\\n\")\n",
    "print(training_examples[0])"
   ]
  },
  {
   "cell_type": "markdown",
   "metadata": {},
   "source": [
    "# Preprocessed Datasets from QANTA\n",
    "\n",
    "https://sites.google.com/view/qanta/resources\n",
    "\n",
    "\"We also provide the preprocessed datasets to help build Machine Reading Comprehension(MRC) based models. We split the questions into individual sentences. For each sentence, we first retrieve top-10 wikipedia articles over whole wikipedia using TFIDF scoring. Then inside these articles, we retrieve top-10 paragraphs with TFIDF scoring as candidates. We use TAGME to extract all entities linked to wikipedia page for each retrieved paragraph.\"\n",
    "\n",
    "* Train: processed-qanta.train.json.zip\n",
    "* Dev: processed-qanta.dev.json.zip\n",
    "* Test: processed-qanta.test.json.zip\n",
    "\n",
    "**Usefulness**\n",
    "\n",
    "Not really useful.  They find the highest similarity wikipedia paragraphs per sentence but we can't really train off that and the entity info isnt useful.\n",
    "\n",
    "## dev.json\n",
    "\n",
    "`processed-qanta.dev.json.zip` \n",
    "\n"
   ]
  },
  {
   "cell_type": "code",
   "execution_count": 44,
   "metadata": {},
   "outputs": [
    {
     "name": "stdout",
     "output_type": "stream",
     "text": [
      "['questions',\n",
      " 'version',\n",
      " 'maintainer_name',\n",
      " 'maintainer_contact',\n",
      " 'maintainer_website',\n",
      " 'project_website']\n",
      "\n",
      "available questions: 2216\n"
     ]
    }
   ],
   "source": [
    "# with open(\"/Users/Allen/Downloads/dev.json\") as f:\n",
    "#     data = json.loads(f.read())\n",
    "\n",
    "pprint(list(data.keys()))\n",
    "print(\"\\navailable questions: {}\".format(len(data[\"questions\"])))"
   ]
  },
  {
   "cell_type": "code",
   "execution_count": 47,
   "metadata": {
    "scrolled": false
   },
   "outputs": [
    {
     "name": "stdout",
     "output_type": "stream",
     "text": [
      "dict_keys(['text', 'answer', 'page', 'category', 'subcategory', 'tournament', 'difficulty', 'year', 'proto_id', 'qdb_id', 'dataset', 'qanta_id', 'tokenizations', 'first_sentence', 'gameplay', 'fold', 'annotated_paras'])\n"
     ]
    }
   ],
   "source": [
    "print(data[\"questions\"][0].keys())"
   ]
  },
  {
   "cell_type": "markdown",
   "metadata": {},
   "source": [
    "# Filtered Wikipedia JSON\n",
    "\n",
    "https://sites.google.com/view/qanta/resources"
   ]
  },
  {
   "cell_type": "code",
   "execution_count": 83,
   "metadata": {},
   "outputs": [
    {
     "name": "stdout",
     "output_type": "stream",
     "text": [
      "25808\n"
     ]
    }
   ],
   "source": [
    "with open(\"/Users/Allen/Downloads/wiki_lookup.json\") as f:\n",
    "    data = json.loads(f.read())\n",
    "\n",
    "print(len(list(data.keys())))\n"
   ]
  },
  {
   "cell_type": "code",
   "execution_count": 86,
   "metadata": {
    "scrolled": false
   },
   "outputs": [
    {
     "name": "stdout",
     "output_type": "stream",
     "text": [
      "dict_keys(['id', 'title', 'text', 'url'])\n"
     ]
    }
   ],
   "source": [
    "print(data[\"Tony_Soprano\"].keys())"
   ]
  },
  {
   "cell_type": "code",
   "execution_count": 87,
   "metadata": {
    "scrolled": false
   },
   "outputs": [
    {
     "name": "stdout",
     "output_type": "stream",
     "text": [
      "Tony Soprano\n",
      "\n",
      "Antonio John \"Tony\" Soprano is a fictional character and the protagonist in the HBO television drama series \"The Sopranos\", portrayed by James Gandolfini. The Italian-American character was conceived by \"Sopranos\" creator and show runner David Chase, who was also largely responsible for the character's story arc throughout the show's six seasons. The character is loosely based on real-life New Jersey mobster Vincent \"Vinny Ocean\" Palermo (born 1944), a former caporegime (capo) and \"de facto\" boss of the DeCavalcante crime family of New Jersey. Considered to be the model for the DiMeo crime family, several incidents involving the DeCavalcantes were incorporated into \"Sopranos\" scripts. Bobby Boriello portrayed Soprano as a child in one episode and Danny Petrillo played the character as a teenager in three episodes.\n",
      "\n",
      "In the first season, Tony is a capo in the DiMeo crime family. Between the first and second seasons, he is promoted to street boss, a position he retains until the sixth season; his uncle Corrado \"Junior\" Soprano is the official boss up until early in the sixth season, but has little or no actual power. Throughout the series, Tony struggles to balance the conflicting requirements of his actual family wife Carmela, daughter Meadow, son A. J., and mother Liviawith those of the Mafia family he controls. He often displays behavior traits characteristic of a violent sociopath, but also struggles with depression and is prone to panic attacks. He seeks treatment from Dr. Jennifer Melfi in the first episode and remains in therapy on and off up until the penultimate episode of the series.\n",
      "\n",
      "Gandolfini garnered enormous praise for his portrayal of the character, winning three Emmy Awards for Best Lead Actor in a Drama Series, three Screen Actors Guild Awards for Best Male Actor in a Drama Series and a Golden Globe Award for Best Actor – Television Series Drama as well as two additional SAG Awards for Best Performance by an Ensemble in a Drama Series.\n",
      "\n",
      "Tony was born in 1964, to Livia and \"Johnny Boy\" Soprano. He grew up living with his mother, father, and two sisters, Janice and Barbara, in the Ironbound neighborhoodknown to locals as \"Down Neck\"in Newark, New Jersey. His father was a capo in the DiMeo crime family and Tony recalls some of his activities in flashbacks on the show. Tony's paternal grandfather, Corrado Soprano Sr., was a master stonemason who emigrated from Avellino, Italy in 1910. He helped to build a church in Tony's old neighborhood in Newark. Tony takes his children there so he can tell them about their heritage and the value of hard work.\n",
      "\n",
      "Bobby Boriello played Tony in the episode \"Down Neck\", in which Tony recalls childhood events relating to his realization that his father was involved in organized crime. He recalls how his father, \"Johnny Boy\" Soprano, used his older sister, Janice, as a cover for attending meetings with criminal associates at a children's amusement park. At the time, Tony thought Janice was his father's favorite child. In therapy, when asked to remember happy childhood memories about his mother, Tony struggles to come up with any, eventually recalling that he witnessed his father falling down the stairs, causing the whole family to laugh, even his mother; he later describes his mother as a cruel, joyless woman who wore his father down \"to a little nub\". Tony has a troubled relationship with Janice, because she is always asking him for money and once tried to sell Livia's house by herself. Tony also was forced to dispose of the body of Janice's re-acquainted boyfriend Richie Aprile, after Janice killed him.\n",
      "\n",
      "Tony went to high school (school letters \"WOHS\", suggesting West Orange High School, were seen in the episode \"The Test Dream\") with Artie Bucco and Davey Scatino, and remains friends with them into adult life. He played baseball and football, and according to Sal Bonpensiero, he nearly made All-County. He met his future bride, Carmela DeAngelis, in high school. Tony was close to his cousin Tony Blundetto, and the other cousins and relations called them Tony-Uncle-Al and Tony-Uncle-Johnny (after their fathers) to tell them apart.\n",
      "\n",
      "In their teenage years, the two Tonys spent summers at the farm of their uncle Pat Blundetto, who was a soldier in the DiMeo organization. Blundetto was arrested for his part in a hijacking when the two Tonys were young men. Tony was supposed to join Blundetto on the job but failed to appear because of a panic attack after an argument with his mother. At the time, he told people he had been attacked and injured by black gangsters. Tony attended Seton Hall University for a semester and a half before dropping out to pursue a life of crime.\n",
      "\n",
      "Tony was part of an unofficial crew of young criminals consisting of Silvio Dante, Ralph Cifaretto, and Jackie Aprile, Sr. Tony gained notoriety in the DiMeo crime family by robbing a card game run by Michele \"Feech\" La Manna along with Jackie. From then on, he was on a fast track to becoming a made man. He committed his first murder in 1982 at the age of 22, killing a small-time bookie named Willie Overall. In season one, Tony states that he knew real-life Mafia boss John Gotti in the 1980s.\n",
      "\n",
      "His father shepherded Tony through his ascendancy until his death in 1986 from emphysema. When he died, Johnny Boy had risen to the level of captain of his own crew—as had his brother, Junior. Junior took over the paternal role and continued to advise and assist Tony. Tony remembers having to buy expensive dinners for Richie Aprile as a newly made man. Soldiers from Johnny Boy's crew, Salvatore \"Big Pussy\" Bonpensiero and Paulie \"Walnuts\" Gualtieri, passed their loyalty on to Tony after Johnny Boy died. Tony then became acting capo of his father's old crew in 1986, making him the youngest capo in the family, at age 26. He was elevated to permanent capo in the late 1980s. His old friend, Silvio Dante, joined him as a soldier in his crew.\n",
      "\n",
      "By 1995, Tony was a well-respected caporegime in the organization when the boss of the family, Ercole \"Eckley\" DiMeo, was sent to prison. Tony's longtime friend and fellow captain Jackie Aprile, Sr. took on the role of acting boss in December 1995. With DiMeo in prison, Aprile became the official \"street boss\" of the family.\n",
      "\n",
      "Under Jackie's rule, the DiMeo Family was peaceful and prosperous until 1998, when Jackie was diagnosed with intestinal cancer. Afterward, the family slowly descended into turmoil. With Jackie in and out of the hospital, and as such not able to fully run the family, Tony began to take on many of his duties, much to his Uncle Junior's chagrin.\n",
      "\n",
      "For a time in early 1999, Jackie seemed cured and was back on the street as boss and the family's woes were eased. By late spring, however, he was back in the hospital and had begun chemotherapy treatments. With Tony's role in the family's operation increasing and disagreements, including Tony thwarting Junior's plot to kill \"Little Pussy\" Malanga in Artie Bucco's restaurant, tensions between Tony and Uncle Junior rose and reached an all-time high as Jackie's condition turned for the worse.\n",
      "\n",
      "With Jackie's death in mid-1999, a crisis emerged as to who would run the family, and the soldiers and other captains began to prepare for all-out war within the family. Tony brought a quick end to the conflict by making Junior the official boss of the family. Junior would unknowingly act as the lightning rod for the feds, while Tony would run the family from behind the scenes as a \"de facto\" boss starting in 2000.\n",
      "\n",
      "Tony has personally committed eight murders in the show. Furthermore, as a Boss, he is responsible for the deaths of others killed on his orders. The eight known murders, all explicitly presented onscreen, were:\n",
      "\n",
      "\n",
      "It is made clear that some of these murders leave Tony perplexed as to how to cope with the situation; most notably, after murdering Christopher Moltisanti, he feels a rush of relief for finally being rid of an associate whom he feels he can no longer trust. He has to \"show the sad face\" while the rest of the family grieves, but Tony reassures himself that Moltisanti's murder was necessary, despite the hurt caused to the family.\n",
      "\n",
      "The murder of Fabian \"Febby\" Petrulio in \"College\", is out of retaliation for Febby getting members of Tony's crew killed in prison when he rats them out to get immunity. Tony does this out of justice as he has contempt for Febby getting away with it initially.\n",
      "\n",
      "The murder of \"Big Pussy\" in \"Funhouse\" weighs heavily on Tony. He is at first tempted to spare his old friend, and even seems to be in denial for quite a long time, but in the end knows his priorities. In the years to follow, Tony—along with Silvio and Paulie—have haunting dreams of the murder of their friend.\n",
      "\n",
      "Tony kills Ralph Cifaretto after their horse, Pie-O-My, dies amid suspicious circumstances in \"Whoever Did This\". Tony tries to confront Ralph about the situation but, after some heated words, Tony loses control and murders Ralph following a violent fight. Though no solid proof was found that the fire killing Pie-O-My was arson, Tony is convinced Ralph did it. It is also implied that this burst of rage could have been fueled by delayed revenge for Ralph's brutal murder of stripper Tracee, considering Tony uttered \"She was a beautiful, innocent creature. What'd she ever do to you? You fucking killed her!\", which could apply to both the female horse and the young woman.\n",
      "\n",
      "The murder of Matthew Bevilaqua was vengeance, an act that had to be carried out since the fact that Christopher was shot was a direct affront to him as Boss. Tony takes satisfaction in it, as it is revenge for an attempt on the life of one of his relatives. He is however still at unease with the murder due to Bevilaqua's young age.\n",
      "\n",
      "The murder of his cousin, Tony Blundetto (in \"All Due Respect\"), is solely to save him from a far worse death if he were to fall into Phil's hands, and so that Tony does not lose his reputation as a Boss (as well as sparing the other members of his own crew from Phil's threats of retaliation, thus preserving their loyalty).\n",
      "\n",
      "The murder of his nephew, Christopher Moltisanti (in \"Kennedy and Heidi\") was not done out of mob-related necessity. Christopher had been addicted to heroin, cocaine, and alcohol for many years and had not conquered his addiction in rehab. While Moltisanti presented a threat to Tony's life and the New Jersey Mob, it was ultimately an emotional reaction. Tony was about to call 911 following a motor vehicle accident. Christopher, who obviously needed urgent medical attention, told him that he would \"never pass the drug test\" and would therefore lose his driver's license. He asked Tony to call for a taxi. Tony looked at the baby seat on the backseat of the SUV which had been destroyed by a tree branch, closed his phone and suffocated Christopher by holding his nose shut so that he choked to death on his own blood. Tony did not plan to murder Christopher but saw the opportunity after the car accident. Tony was never suspected of this murder.\n",
      "\n",
      "Tony has two children: Meadow Soprano and Anthony (A.J.) Soprano. He also treats Christopher Moltisanti, his wife's first cousin once removed, as a son in many ways.\n",
      "\n",
      "Tony was often portrayed as a loving father—he attends his children's sporting events on a regular basis and does all he can to ensure they have luxuries and opportunities. He hopes that both his children will escape the life of crime he has led. Tony takes great pride in Meadow's achievements. In Season 1, he is moved to tears by her performance at a choir recital. He often tells people about her aspiration to become a pediatrician.\n",
      "\n",
      "He also sometimes alienates his children with his behavior. He has always tried to conceal his criminal life from them—something that Meadow saw through early on and A.J. also realized with guidance from his sister.\n",
      "\n",
      "Tony's over-protectiveness of Meadow led to feuds between them on several occasions. For example, her first boyfriend at college was of black and Jewish ancestry, and Tony's racism led him to try to drive him away. Meadow learned of her father's actions and did not speak to him for several months, eventually reconciling at Christmas in 2001.\n",
      "\n",
      "Meadow's next boyfriend was Jackie Aprile, Jr., the son of Tony's old friend, the late Jackie Aprile, Sr. Tony had promised Jackie Jr.'s father that he would keep his son out of the Mafia life. Tony was initially pleased with the relationship, believing Jackie to be a hard-working pre-med student from a good family. However, since Jackie's uncle Richie Aprile's release from prison and subsequent death, Tony realized that Jackie had become more involved in the Mafia when he saw him at strip clubs and a casino. He eventually beat Jackie up to warn him about abusing his daughter's feelings and confiscated his gun. Tony began seeing much of himself and his treatment of Carmela in Jackie's relationship with Meadow. Jackie was killed by Vito for his involvement in a robbery at Christopher's and Furio's executive card game, and for shooting a made man, Furio. This drove Meadow to drinking and depression, although they'd broken up shortly before his death.\n",
      "\n",
      "After Jackie's death, Tony accepts Meadow's college friends and gets along well with her fiancé, Finn, before the two separated under unrevealed circumstances.\n",
      "\n",
      "When Meadow is out for dinner with her \"mystery\" boyfriend Patrick Parisi, New York mob member Coco walks up to the table and makes drunk remarks about her looks and how \"Tony must love tucking you in at night\". After taking advice from her mother, Meadow tells Tony, who hides his rage and says Coco is \"harmless\" and \"an idiot\". Tony then tracks down Coco and Butch DeConcini at John's Restaurant on East 12th Street in Manhattan. Tony viciously pistol-whips Coco several times with a snubnose revolver and warns Butch at gunpoint to shut up and remain seated at his table. After breaking off some of Coco's teeth with a curb stomp, Tony leaves the restaurant.\n",
      "\n",
      "Tony's feelings toward his son are mixed; he worries about his future. From the beginning, Tony had doubts that his son could succeed in the Mafia telling Dr. Melfi \"he'd never make it\". His fears are confirmed as A.J. consistently demonstrates throughout the series that he lacks his father's cunning and dominating persona. Tony tells A.J. numerous times that he is proud that his son is gentle and kind. Tony was especially proud of A.J.'s prowess on the football field, even amid his failing grades in high school, but is frustrated with A.J.'s lack of focus after graduation.\n",
      "\n",
      "After flunking out of Ramapo State, A.J. loafs around the house, parties, and for a time holds a job at Blockbuster, until his father gets him a job working construction. There, A.J. meets Blanca, and in Tony's opinion, A.J. was doing well until he and Blanca broke up. Tony worries about A.J.'s depression, the 'rotten putrid Soprano gene' that Tony believes he passed down to his son.\n",
      "\n",
      "Hoping to get A.J. back on track, Tony rekindles A.J.'s friendship with \"the Jasons\", sons of two of his associates, and A.J. seems to be doing better. With the help of a therapist and medication, A.J. is finally getting back to college, this time at Rutgers University, to take classes and party with girls as Tony believes every college kid should. This later turns sour after A.J. sees his new friends attack a Somalian student on a bike and he regresses into depression. A.J. tries to drown himself in a swimming pool, but decides he wants to live; he is unable to escape the pool, however. Tony hears his cries for help, and rescues him. After A.J. is released from a mental health ward, Tony and Carmela dissuade him from joining the Army, and convince him instead to become involved in a film bankrolled by Carmine Lupertazzi, Jr., with the possibility of opening his own club.\n",
      "\n",
      "Tony is an avid animal lover, and enjoys feeding the ducks which visit his pool. He has a sentimental attachment towards animals, as he had been traumatized by the loss of his childhood dog (as revealed in the episode \"In Camelot\"), whose name was \"Tippy\". When he goes to confront Angie Bonpensiero as she's walking her poodle, the dog greets Tony in a friendly manner, to which Tony reciprocates. In Christopher Moltisanti's intervention, when Tony hears Christopher accidentally suffocated Adrianna's dog, he was furious saying \"I oughta suffocate you, you little prick!\" He becomes involved in horse racing through his friend Hesh Rabkin, who owns a stable, and invests in a racehorse named Pie-O-My. When his horse is killed in a fire – possibly set by Ralph Cifaretto – Tony is deeply upset and saddened and kills Cifaretto, yelling: \"She was a beautiful innocent creature. What did she ever do to you?\" He repeats \"You fucking killed her!\", while banging Cifaretto's head against the floor. When informed by Carmela that a black bear has been foraging in his home's backyard while they were separated, during Season 5, he reacts with interest, rather than fear. During his stay in the hospital after his shooting, he can be seen reading a book about dinosaurs, given by Carmela. In the series finale, Tony finds a stray cat at his safehouse during the war with New York and takes a liking to it. He brings it back to Satriale's, where it stares at the deceased Chris Moltisanti's photo (much to Paulie's dismay).\n",
      "\n",
      "Tony is seen many times over the course of the show engaging in both freshwater and saltwater angling. His son Anthony, Jr. sometimes accompanies him on fishing outings. During the second season he presents his son with a Fenwick rod and a Penn International reel, both extremely high quality products. In the sixth season, while in Florida with Paulie, he rents a sport fishing boat. He is sometimes haunted by visions of Pussy Bonpensiero incarnated in the form of a fish – presumably a reference to the disposal of his body in the ocean. A Big Mouth Billy Bass novelty singing fish, brought into the Bada Bing by Georgie and another later presented to him as a Christmas present by his daughter Meadow, recalled his nightmare and disturbed him greatly.\n",
      "\n",
      "Tony enjoys fresh air by himself, gazing over water, and having a cigar at the same time, which is seen throughout the series.\n",
      "\n",
      "He is also a gun enthusiast and is shown to have an arsenal in his home. He gives guns as birthday gifts to his father-in-law Hugh DeAngelis (in \"Marco Polo\") and received one from Bobby Baccialieri on his own birthday (in \"Soprano Home Movies\").\n",
      "\n",
      "Tony enjoys sports, particularly baseball, football, basketball, golf, and horse racing. He played baseball and football at West Essex High School, and is a fan of the New York Yankees and New York Jets. He has taken A.J. to New Jersey Nets and New Jersey Devils games occasionally throughout the series. Some objects and posters in A.J.'s room confirm this. He plays golf with John Sacrimoni at Upper Montclair Country Club. A large portion of his income is derived from illegal sports betting.\n",
      "\n",
      "Tony is an amateur yachtsman and has owned two motor yachts over the course of the show: \"Stugots\" and \"Stugots II\". The name comes from the Southern Italian phrase \"stu cazz\" meaning \"This dick\", or in paraphrase, \"Fuck it\".\n",
      "\n",
      "Tony maintains an avid interest in history, particularly World War II. Throughout seasons 4 and 5, Tony is seen watching Vietnam War documentaries. He is a big fan of President John F. Kennedy and owns one of his captain sailor hats, which he won at an auction. He is often shown watching programs on the History Channel about great leaders such as George S. Patton, Erwin Rommel, and Winston Churchill. He reads \"The Art of War\" by Sun Tzu, which is quoted by several other characters on the show, particularly Paulie Gualtieri.\n",
      "\n",
      "Tony is often seen watching classic mob films. For example, he is shown watching \"The Public Enemy\" (1931) throughout the episode \"Proshai, Livushka\", which addresses his mother's death. He also shares a love for \"The Godfather\" series (wondering what went wrong in the third installment).\n",
      "\n",
      "Tony listens to classic rock and pop music, particularly of the 1960s and 70s. Over the course of the show he is seen to enjoy AC/DC, Deep Purple, Eagles, Eric Clapton, Jefferson Airplane, Jethro Tull, Journey, Lynyrd Skynyrd, Pink Floyd, Rush, Steely Dan, The Clash, The Chi-Lites, The Lost Boys, Tom Petty and The Heartbreakers, and Van Morrison.\n",
      "\n",
      "Like most of the mobsters in the series, Tony is shown to be partial to Cadillac and Lincoln vehicles. When discussing with Dr. Melfi a bizarre dream in which his penis fell off, he mentions that he went to the guy who used to \"work on my Lincoln, when I drove Lincolns\". For the first four seasons, Tony drives a burgundy 1999 Chevrolet Suburban LT 4x4, but in season 5, this has been replaced with a black Cadillac Escalade ESV. This black Escalade is totaled in an accident, and quickly replaced with a white Escalade ESV. Tony has this Escalade until the end of the series.\n",
      "\n",
      "Throughout the series Tony is shown to be a serial adulterer. He typically has mistresses whom he consistently sees for long periods of time, though he also has a number of brief one-night stands with strippers from the Bada Bing.\n",
      "\n",
      "His wife Carmela is tacitly aware of his infidelity and usually views it as a form of masturbation, though sometimes the bottled-up tensions explode in domestic arguments. At the end of Season 4, Irina telephones Carmela in a jealous rage at Tony's cheating on her with her cousin Svetlana, which causes Carmela to finally snap. Carmela throws Tony out of the house and begins divorce proceedings.\n",
      "\n",
      "Tony has a strong preference for women of European, particularly Italian descent, with dark hair and eyes and exotic features. His mistresses have been, in chronological order, of Russian (Irina and later Svetlana), Italian (Gloria Trillo), Italian/Cuban (Valentina La Paz), and Jewish descent (Julianna Skiff). He favors dark features but also has a few brief flings with blonde American European women, including a stewardess from Icelandic Airways and a medical assistant. He had one very short encounter with an Asian-American escort during \"The Test Dream\".\n",
      "\n",
      "Mistresses:\n",
      "\n",
      "\n",
      "Tony has suffered from panic attacks that sometimes cause him to lose consciousness since his childhood. He has his first on-screen panic attack while cooking sausages at his son's birthday party—this occurs in a flashback in the pilot episode. Tony loses consciousness and causes a small explosion when he drops a bottle of lighter fluid onto the coals. Tony describes the experience of the panic attack as feeling like he had \"ginger ale in his skull\". This prompts him to seek help for the attacks. After extensive testing that includes an MRI scan and blood work, no physical cause can be found, so Dr. Cusamano referred Tony to psychiatrist Dr. Jennifer Melfi.\n",
      "\n",
      "Tony's therapy allows a discussion of his thoughts and feelings away from both aspects of his life—this forum for reaching into the character's thoughts has been described as a Greek chorus, and as a key for viewers to understand the character.\n",
      "\n",
      "Tony was initially very resistant to the idea that there was a psychiatric cause for his symptoms. He resented being in therapy, and refused to accept the diagnosis of panic attacks given him by the neurologists who had investigated his illness. Tony begins to open up once Dr. Melfi explains the doctor-patient confidentiality rules. He tells her about the stress of his business life—he has a feeling that he has come in at the end of something, and describes a reverence for the glorified \"old days\" of the Mafia. Tony leaves out the violence associated with his criminal career. Tony tells Dr. Melfi a story about ducks landing in his pool. He describes his mother Livia, a cold, mean-spirited woman with whom he has an openly hostile relationship. By the end of the first session Tony has admitted that he feels depressed, but storms out when Dr. Melfi presses him further about the relationship between his symptoms and the ducks.\n",
      "\n",
      "When the family visits Green Grove, a retirement community where Tony is trying to place his mother, Livia's derisive outburst prompts a second panic attack. Melfi prescribes Prozac as an anti-depressant, telling him that no one needs to suffer from depression with the wonders of modern pharmacology. Tony fails to attend their next scheduled session.\n",
      "\n",
      "At their next session, Tony is still reluctant to face his own psychological weaknesses. Tony is quick to credit the medication for his improved mood, but Dr. Melfi tells him it cannot be that, as it takes six weeks to work—she credits their therapy sessions. Tony describes a dream where a bird steals his penis. Melfi extrapolates that Tony has projected his love for his family onto the family of ducks living in his pool. This brings him to tears, to his consternation. She tells him that their flight from the pool sparked his panic attack through the overwhelming fear of somehow losing his own family.\n",
      "\n",
      "In the episode \"46 Long\", they continue discussing Tony's mother and her difficulties living alone. Tony admits that he feels guilty because his mother could not be allowed to live with his family. We learn that he has been left to care for his mother alone by his sisters. When Dr. Melfi asks him to remember good experiences from his childhood, he has difficulty. He blames Carmela for preventing his mother from living with them. Later they discuss Livia's car accident, and Melfi suggests depression may have contributed to the accident – Tony misunderstands her and becomes angry. Tony has a panic attack while visiting his mother's home after she moves to Green Grove. In a later session, Dr. Melfi pushes Tony to admit he has feelings of anger towards his mother, and he again storms out. During this episode Tony introduces the concept of him acting like the sad clown – happy on the outside but sad on the inside.\n",
      "\n",
      "In \"Denial, Anger, Acceptance\", Tony discusses Jackie's cancer with Dr. Melfi. She tries to use it as an example of Tony's negative thinking contributing to his depression. Tony becomes angry and storms out. He feels she is trying to trick him and manipulate his thoughts using the pictures that decorate her office. After Jackie worsens and Tony is called a Frankenstein by a business associate, he returns to therapy to discuss these things with Dr. Melfi. She asks him if he feels like a monster.\n",
      "\n",
      "In \"Fortunate Son\", Tony discusses a childhood memory of an early panic attack. He saw his father and uncle mutilate Mr. Satriale, the local butcher, and later fainted at a family dinner made with free meat from Satriale's shop. Dr. Melfi makes a connection between meat and Tony's panic attacks. She explores his mother's attitude to the fruits of his father's labor.\n",
      "\n",
      "Later Dr. Melfi tries prescribing Lithium as a mood stabilizer. In the episode \"Isabella\", Tony sinks into a severe depressive episode and experiences hallucinations—he sees a beautiful Italian woman named Isabella in his neighbor's garden. Tony sees Isabella several times during the episode, and later learns that she never existed. Melfi theorizes that Isabella was an idealized maternal figure that Tony's subconscious produced because he was deeply upset about his own mother's actions at the time.\n",
      "\n",
      "In \"I Dream of Jeannie Cusamano\", Tony abruptly ends his therapy and persuades Dr. Melfi to go into hiding when he discovers that Uncle Junior has found out about their sessions.\n",
      "\n",
      "The relationship between Tony and Dr. Melfi is up-and-down, with Tony reaching a level of comfort with Dr. Melfi that he has never experienced with anyone else before, not even his wife. This closeness leads Tony to have something of a \"crush\" on Dr. Melfi, something that is unattainable. However, the \"prying\" from Dr. Melfi is uncomfortable for Tony and he often turns sarcastic and antagonistic towards her, leading to an ongoing strain in their relationship. In the episode when Tony's sister, Janice, goes back to Seattle, it is revealed during a rushed conversation between Janice and Tony that their mother suffers from narcissistic personality disorder.\n",
      "\n",
      "During the episode \"The Second Coming\", aired in part II of season six, Melfi's own therapist suggests to her that her work with Tony could be considered enabling toward Tony's sociopathic tendencies. Finally, in the penultimate episode of the series, \"The Blue Comet\", Melfi severs her relationship with Tony after reading research recommended by her own therapist that indicates sociopaths can use talk therapy to improve their skills in manipulating others, and use what is learned in therapy to become more capable criminals.\n",
      "\n",
      "In the first season, Tony is attacked by William Johnson \"Petite\" Clayborn and Rasheen Ray, two thugs sent by Donnie Paduana to execute Tony. Tony sustains an injury to his ear, which is partially shot off, and minor bruises and cuts from crashing his vehicle. One of the two assailants, Clayborn, is shot dead by Ray in an attempt to kill Tony, and Ray is left bruised, but runs off.\n",
      "\n",
      "In the premiere of the sixth season, \"Members Only\", Junior Soprano, suffering from dementia, believes Tony to be \"Little Pussy\" Malanga, and shoots him in the abdomen. Tony dials 911 but loses consciousness before being able to tell the operator what happened.\n",
      "\n",
      "The second episode of the sixth season, \"Join the Club\", Tony is in a medically induced coma in the hospital. In the second and third episode the viewer sees Tony in a dream-like state, eventually arriving at what could be purgatory, where he is greeted by a man who takes the physical form of his late cousin Tony Blundetto. The shadowy figure in the doorway of the house has the profile of his mother, who is dead. The voice of a younger version of his daughter calls him back. At the end of the third episode, he awakes from his coma in a confused but stable state.\n",
      "\n",
      "By the fourth episode, Tony is mobile and fully aware, and has regained his voice. Tony's attitude to life has changed by his near death experience. He has yet to discuss his experiences while unconscious with anyone close to him. However, in the Season 6 episode \"Kaisha\", he admits to Phil Leotardo (who had just suffered a heart attack), that while he was in a coma, he went to a place where he never wants to go again. While talking philosophy with John Schwinn, another patient at the hospital, he mentions that while in the coma he had the experience of being drawn towards somewhere he did not want to go and narrowly avoided it.\n",
      "\n",
      "In the sixth episode of season 6, part 2, \"Kennedy and Heidi\", Tony sustains minor injuries in a car accident that seriously injures his nephew, Christopher Moltisanti. Tony suffocates Christopher after this accident. Tony was on bed rest for a few days and quickly recovered. Nonetheless, this gave his family quite a scare and a painful memory of his nearly fatal shooting the previous year.\n",
      "\n",
      "Tony sometimes has vivid dreams that are shown to the viewer. Episodes with dream sequences include \"Pax Soprana\", \"Isabella\", \"Funhouse\", \"Everybody Hurts\", \"Calling All Cars\", and \"The Test Dream\".\n",
      "\n",
      "In the pilot, Tony tells Dr. Melfi about a dream he had wherein a screw in his belly button, when removed, causes his penis to fall off. He tries to find a car mechanic (who had worked on his Lincoln when Tony drove Lincolns) to put it back on, but a duck swoops down and snatches it from his hand.\n",
      "\n",
      "In \"Meadowlands\", Tony has a dream that several people in his life are present in Dr. Melfi's office: Herman \"Hesh\" Rabkin scrolling by the window, A.J. behind the door, Silvio Dante having sex with a woman in the waiting room, and Paulie Walnuts and Big Pussy reading Chinese newspapers. This causes him to worry that people will find out he is seeing a psychiatrist. The dream ends with Tony confronting Melfi, seeing Jackie Aprile, Sr. in his death bed smoking a cigarette, asking Tony, \"You smell that? That's rain.\", and only to find out that Melfi is his mother, Livia.\n",
      "\n",
      "In \"Pax Soprana\", Tony has several dreams and fantasies about Dr. Melfi. He becomes convinced that he is in love with her, but she turns him down when he makes advances towards her.\n",
      "\n",
      "In \"Isabella\", Tony, suffering from depression after Big Pussy disappears, acquaints himself with a dental student named Isabella who is staying in the Cusamano home while they are on vacation. He later discovers that he'd hallucinated Isabella due to taking too much lithium, and that Isabella represented the mother he never had.\n",
      "\n",
      "In \"Funhouse\", an extended dream sequence exposes many of Tony's subconscious thoughts and feelings through symbolic and sometimes bizarre events: he attempts suicide to preempt a doctor's diagnosis of early death by dousing himself in gasoline and lighting himself on fire; he witnesses himself shooting Paulie \"Walnuts\" Gaultieri to death during a card game; he has an innuendo-laden conversation with his therapist Dr. Melfi while sporting a prominent erection; and a fish that speaks with the voice of Sal \"Big Pussy\" Bonpensiero confirms his suspicions that the longtime friend and soldier is a federal informant.\n",
      "\n",
      "In \"Everybody Hurts\", Tony dreams of his ex-comaré Gloria Trillo shortly after learning of her suicide by hanging. He visits her apartment and finds her in a black dress with a black scarf around her neck. She is cooking dinner, and when she goes over to the oven the scarf drapes across Tony. Plaster falls down in front of Tony and when he looks up, he sees that the chandelier is almost pulled out of the ceiling. Gloria is suddenly back at the table and offers Tony a choice between seeing what she has under her dress or under her scarf. As she begins to peel away the scarf, Tony wakes up and makes his way to the bathroom for some medication.\n",
      "\n",
      "In \"Calling All Cars\", Tony has two dreams featuring Ralph Cifaretto. In the first, he is being driven by Carmela in the back of his father's old car while Ralph sits in the passenger seat. There is a caterpillar crawling on the back of Ralph's head. Tony's fellow passenger in the back seat changes—Gloria Trillo and Svetlana Kirilenko are both seen. The caterpillar turns into a butterfly. Dr. Melfi later tells him that the dream signifies a change for Ralphie (recently killed by Tony) and Carmela being in control, which Tony doesn't like.\n",
      "\n",
      "In the second dream, Tony follows Ralph to an old house, which Ralph enters. Tony is dressed in trousers, suspenders, and an undershirt. He knocks on the door and a female figure descends slowly in shadow; the door creaks ominously. Tony says he is there for the stonemason job but does not speak English well (Tony's grandfather was an immigrant stonemason). Just as Tony is about to enter the house, he wakes up.\n",
      "\n",
      "In \"The Test Dream\", Tony comes to terms with having to kill his cousin Tony Blundetto. The episode reflects on his inner demons and fears, including his children's future, his relationship with his wife, his infidelities, deceased acquaintances—including some who have died by his hand or by his orders—his fate, and his relationship with his father. He is again shown in his father's old car, accompanied by a range of past associates.\n",
      "\n",
      "In \"Join the Club\", a comatose Tony finds himself in an alternate universe where he is a law-abiding salesman on a business trip. Among other differences, his accent has changed and his hotel's bartender condescends him (in sharp contrast to the bartender at The Bing, who is a recurring punching bag for Tony). Tony has mistakenly taken another man's briefcase – Kevin Finnerty's – along with all of his identification and work. The episode follows his attempts to discern his identity, recover his briefcase, and get back to his family.\n",
      "\n",
      "In \"Kennedy and Heidi\", a stressed Tony Soprano has a dream following the death of Christopher Moltisanti. In this dream, he tells his therapist that Christopher was a burden and that he is relieved that he was dead. After that he also tells her that he murdered Big Pussy and his cousin Tony Blundetto. Following the dream, he acts differently to his friends and family, trying to see if they also feel relieved now that Christopher is dead.\n",
      "\n",
      "Following Gandolfini's death on June 19, 2013, Gandolfini's portrayal of Soprano was praised for its influence on subsequent other TV characters. \"TV Guide\" columnist Matt Roush stated, \"Without Tony, there's no Vic Mackey of \"The Shield\", no Al Swearengen of \"Deadwood\", no Don Draper of \"Mad Men\"\" (whose creator, Matthew Weiner, honed his craft as a writer on \"The Sopranos\"). Similar testimonials were included by his co-stars and colleagues; Bryan Cranston stated that his \"Breaking Bad\" character, Walter White, would not have existed without Tony Soprano.\n",
      "\n",
      "\n",
      "\n"
     ]
    }
   ],
   "source": [
    "print(data[\"Tony_Soprano\"][\"text\"])"
   ]
  },
  {
   "cell_type": "code",
   "execution_count": null,
   "metadata": {},
   "outputs": [],
   "source": []
  }
 ],
 "metadata": {
  "kernelspec": {
   "display_name": "cmsc723",
   "language": "python",
   "name": "cmsc723"
  },
  "language_info": {
   "codemirror_mode": {
    "name": "ipython",
    "version": 3
   },
   "file_extension": ".py",
   "mimetype": "text/x-python",
   "name": "python",
   "nbconvert_exporter": "python",
   "pygments_lexer": "ipython3",
   "version": "3.6.1"
  }
 },
 "nbformat": 4,
 "nbformat_minor": 2
}
